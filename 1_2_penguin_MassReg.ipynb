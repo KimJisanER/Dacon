{
  "nbformat": 4,
  "nbformat_minor": 0,
  "metadata": {
    "colab": {
      "name": "1_2_penguin_MassReg.ipynb",
      "provenance": [],
      "mount_file_id": "1uoQTwSdBkSyqaxqq55CxU2Sxg9EDnHgH",
      "authorship_tag": "ABX9TyMJY5S51/kGnfIaguFtsB4/",
      "include_colab_link": true
    },
    "kernelspec": {
      "name": "python3",
      "display_name": "Python 3"
    },
    "language_info": {
      "name": "python"
    }
  },
  "cells": [
    {
      "cell_type": "markdown",
      "metadata": {
        "id": "view-in-github",
        "colab_type": "text"
      },
      "source": [
        "<a href=\"https://colab.research.google.com/github/KimJisanER/Dacon/blob/main/1_2_penguin_MassReg.ipynb\" target=\"_parent\"><img src=\"https://colab.research.google.com/assets/colab-badge.svg\" alt=\"Open In Colab\"/></a>"
      ]
    },
    {
      "cell_type": "code",
      "execution_count": 145,
      "metadata": {
        "id": "aufL22tgtFUe"
      },
      "outputs": [],
      "source": [
        "import numpy as np\n",
        "import pandas as pd\n",
        "import matplotlib.pyplot as plt\n",
        "from pandas import set_option\n",
        "from pandas.plotting import scatter_matrix\n",
        "from sklearn.model_selection import train_test_split\n",
        "from sklearn.model_selection import KFold\n",
        "from sklearn.model_selection import cross_val_score\n",
        "from sklearn.model_selection import GridSearchCV\n",
        "from sklearn.linear_model import LinearRegression\n",
        "from sklearn.linear_model import LogisticRegression\n",
        "from sklearn.linear_model import Lasso\n",
        "from sklearn.linear_model import ElasticNet\n",
        "from sklearn.tree import DecisionTreeRegressor\n",
        "from sklearn.neighbors import KNeighborsRegressor\n",
        "from sklearn.svm import SVR\n",
        "from sklearn.pipeline import Pipeline\n",
        "from sklearn.ensemble import RandomForestRegressor, RandomForestClassifier\n",
        "from sklearn.ensemble import GradientBoostingRegressor\n",
        "from sklearn.ensemble import ExtraTreesRegressor\n",
        "from sklearn.ensemble import AdaBoostRegressor, AdaBoostClassifier\n",
        "from sklearn.metrics import mean_squared_error\n",
        "from xgboost import XGBRegressor, XGBClassifier\n",
        "from lightgbm import LGBMRegressor, LGBMClassifier\n",
        "from sklearn.tree import DecisionTreeClassifier\n",
        "from sklearn.neighbors import KNeighborsClassifier\n",
        "from sklearn.discriminant_analysis import LinearDiscriminantAnalysis\n",
        "from sklearn.naive_bayes import GaussianNB\n",
        "from sklearn.svm import SVC\n",
        "from sklearn import preprocessing\n",
        "import seaborn as sns"
      ]
    },
    {
      "cell_type": "code",
      "source": [
        "dataset_path='/content/drive/MyDrive/penguin/'\n",
        "\n",
        "train_dataset = pd.read_csv(dataset_path+'train.csv').drop(['id'],axis=1)\n",
        "test_dataset = pd.read_csv(dataset_path+'test.csv').drop(['id'],axis=1)"
      ],
      "metadata": {
        "id": "az9iCfdPtQ21"
      },
      "execution_count": 166,
      "outputs": []
    },
    {
      "cell_type": "code",
      "source": [
        "print(train_dataset.isnull().sum())\n",
        "print(test_dataset.isnull().sum())"
      ],
      "metadata": {
        "colab": {
          "base_uri": "https://localhost:8080/"
        },
        "id": "PL3aeaEltmTM",
        "outputId": "0b2cb85c-2e66-42ca-8161-1ee64eb9534f"
      },
      "execution_count": 167,
      "outputs": [
        {
          "output_type": "stream",
          "name": "stdout",
          "text": [
            "Species                0\n",
            "Island                 0\n",
            "Clutch Completion      0\n",
            "Culmen Length (mm)     0\n",
            "Culmen Depth (mm)      0\n",
            "Flipper Length (mm)    0\n",
            "Sex                    3\n",
            "Delta 15 N (o/oo)      3\n",
            "Delta 13 C (o/oo)      3\n",
            "Body Mass (g)          0\n",
            "dtype: int64\n",
            "Species                0\n",
            "Island                 0\n",
            "Clutch Completion      0\n",
            "Culmen Length (mm)     0\n",
            "Culmen Depth (mm)      0\n",
            "Flipper Length (mm)    0\n",
            "Sex                    6\n",
            "Delta 15 N (o/oo)      9\n",
            "Delta 13 C (o/oo)      8\n",
            "dtype: int64\n"
          ]
        }
      ]
    },
    {
      "cell_type": "code",
      "source": [
        "path='/content/drive/MyDrive/penguin/'\n",
        "\n",
        "train=pd.read_csv(path+'train.csv')\n",
        "test=pd.read_csv(path+'test.csv')\n",
        "\n",
        "X_train=train.iloc[:,1:10]\n",
        "y_train=train.loc[:,'Body Mass (g)']\n",
        "test_id=test.iloc[:,0]\n",
        "X_test=test.iloc[:,1:]\n",
        "\n",
        "X_train['Delta 15 N (o/oo)']=X_train['Delta 15 N (o/oo)'].fillna(X_train['Delta 15 N (o/oo)'].mean())\n",
        "X_test['Delta 15 N (o/oo)']=X_test['Delta 15 N (o/oo)'].fillna(X_test['Delta 15 N (o/oo)'].mean())\n",
        "\n",
        "X_train['Delta 13 C (o/oo)']=X_train['Delta 13 C (o/oo)'].fillna(X_train['Delta 13 C (o/oo)'].mean())\n",
        "X_test['Delta 13 C (o/oo)']=X_test['Delta 13 C (o/oo)'].fillna(X_test['Delta 13 C (o/oo)'].mean())\n",
        "\n",
        "label=[]\n",
        "\n",
        "for i in X_train.columns:\n",
        "  if X_train.dtypes[i] == 'object':\n",
        "    label.append(i)\n",
        "\n",
        "from sklearn.preprocessing import LabelEncoder\n",
        "X_train.loc[:,label]=X_train.loc[:,label].apply(LabelEncoder().fit_transform)\n",
        "X_test.loc[:,label]=X_test.loc[:,label].apply(LabelEncoder().fit_transform)\n",
        "\n",
        "\n",
        "from sklearn.preprocessing import StandardScaler\n",
        "scaler=StandardScaler()\n",
        "scaler.fit(X_train)\n",
        "X_train=scaler.transform(X_train)\n",
        "X_test=scaler.transform(X_test)\n",
        "\n",
        "\n",
        "from sklearn.ensemble import RandomForestRegressor\n",
        "model=RandomForestRegressor(max_depth=5, n_estimators=200, min_samples_leaf=8, min_samples_split=8)\n",
        "model.fit(X_train,y_train)\n",
        "\n",
        "from sklearn.linear_model import Lasso\n",
        "model_la=Lasso(alpha=0.2)\n",
        "model_la.fit(X_train,y_train)\n",
        "\n",
        "from sklearn.linear_model import LinearRegression\n",
        "model_lr=LinearRegression()\n",
        "model_lr.fit(X_train,y_train)\n",
        "\n",
        "import xgboost as xgb\n",
        "from xgboost import XGBRegressor\n",
        "model_xgb=XGBRegressor(max_depth=2)\n",
        "model_xgb.fit(X_train,y_train)\n",
        "\n",
        "pred=model.predict(X_test)\n",
        "pred2=model_la.predict(X_test)\n",
        "pred3=model_lr.predict(X_test)\n",
        "pred4=model_xgb.predict(X_test)\n",
        "\n",
        "pred_pre=0.25*pred+0.25*pred2+0.25*pred3+0.25*pred4\n",
        "pred_pre=pd.DataFrame(pred_pre)\n",
        "pred_pre.columns=['Body Mass (g)']\n",
        "print(pred_pre)"
      ],
      "metadata": {
        "colab": {
          "base_uri": "https://localhost:8080/"
        },
        "id": "tXApwbFnzPGv",
        "outputId": "153177f4-bbea-4b9a-c530-e82af4c8c832"
      },
      "execution_count": 168,
      "outputs": [
        {
          "output_type": "stream",
          "name": "stdout",
          "text": [
            "[13:51:19] WARNING: /workspace/src/objective/regression_obj.cu:152: reg:linear is now deprecated in favor of reg:squarederror.\n",
            "     Body Mass (g)\n",
            "0      4420.073025\n",
            "1      5568.529158\n",
            "2      3640.425762\n",
            "3      3421.336572\n",
            "4      3472.991308\n",
            "..             ...\n",
            "223    4188.594756\n",
            "224    4765.359057\n",
            "225    4598.446465\n",
            "226    3965.292552\n",
            "227    4068.702435\n",
            "\n",
            "[228 rows x 1 columns]\n"
          ]
        }
      ]
    },
    {
      "cell_type": "code",
      "source": [
        "test_dataset=pd.concat([test_dataset, pred_pre], axis=1)\n",
        "print(test_dataset)"
      ],
      "metadata": {
        "colab": {
          "base_uri": "https://localhost:8080/"
        },
        "id": "Ti1LDyBM1Ahw",
        "outputId": "cc53fb0e-ce15-4b24-94a6-273f65744cc8"
      },
      "execution_count": 169,
      "outputs": [
        {
          "output_type": "stream",
          "name": "stdout",
          "text": [
            "                                       Species  ... Body Mass (g)\n",
            "0    Chinstrap penguin (Pygoscelis antarctica)  ...   4420.073025\n",
            "1            Gentoo penguin (Pygoscelis papua)  ...   5568.529158\n",
            "2          Adelie Penguin (Pygoscelis adeliae)  ...   3640.425762\n",
            "3    Chinstrap penguin (Pygoscelis antarctica)  ...   3421.336572\n",
            "4          Adelie Penguin (Pygoscelis adeliae)  ...   3472.991308\n",
            "..                                         ...  ...           ...\n",
            "223  Chinstrap penguin (Pygoscelis antarctica)  ...   4188.594756\n",
            "224          Gentoo penguin (Pygoscelis papua)  ...   4765.359057\n",
            "225          Gentoo penguin (Pygoscelis papua)  ...   4598.446465\n",
            "226  Chinstrap penguin (Pygoscelis antarctica)  ...   3965.292552\n",
            "227        Adelie Penguin (Pygoscelis adeliae)  ...   4068.702435\n",
            "\n",
            "[228 rows x 10 columns]\n"
          ]
        }
      ]
    },
    {
      "cell_type": "code",
      "source": [
        "train_dataset['Sex']=np.where(train_dataset['Sex'].values=='MALE',1,np.where(train_dataset['Sex'].values=='FEMALE',0,np.nan))\n",
        "test_dataset['Sex']=np.where(test_dataset['Sex'].values=='MALE',1,np.where(test_dataset['Sex'].values=='FEMALE',0,np.nan))\n",
        "train_dataset['Clutch Completion']=np.where(train_dataset['Clutch Completion'].values=='Yes',1,0)\n",
        "test_dataset['Clutch Completion']=np.where(test_dataset['Clutch Completion'].values=='Yes',1,0)\n",
        "train = pd.concat([train_dataset,pd.get_dummies(train_dataset[['Island','Species']])],axis=1)\n",
        "test = pd.concat([test_dataset,pd.get_dummies(test_dataset[['Island','Species']])],axis=1)\n",
        "train = train.drop(['Island','Species'],axis=1)\n",
        "test = test.drop(['Island','Species'],axis=1)"
      ],
      "metadata": {
        "id": "jvGP8F6Ct1xt"
      },
      "execution_count": 170,
      "outputs": []
    },
    {
      "cell_type": "code",
      "source": [
        "all=pd.concat([train,test],axis=0)\n",
        "all.to_csv('all.csv',index=False)\n",
        "print(all)\n",
        "print(all.isnull().sum())\n",
        "all=all.dropna(axis=0)\n",
        "print(all.isnull().sum())"
      ],
      "metadata": {
        "colab": {
          "base_uri": "https://localhost:8080/"
        },
        "id": "tnPbGiHfxDOs",
        "outputId": "112f61fd-605c-4f39-8955-441181e69a16"
      },
      "execution_count": 171,
      "outputs": [
        {
          "output_type": "stream",
          "name": "stdout",
          "text": [
            "     Clutch Completion  ...  Species_Gentoo penguin (Pygoscelis papua)\n",
            "0                    1  ...                                          1\n",
            "1                    0  ...                                          0\n",
            "2                    1  ...                                          1\n",
            "3                    1  ...                                          1\n",
            "4                    0  ...                                          1\n",
            "..                 ...  ...                                        ...\n",
            "223                  1  ...                                          0\n",
            "224                  1  ...                                          1\n",
            "225                  1  ...                                          1\n",
            "226                  1  ...                                          0\n",
            "227                  1  ...                                          0\n",
            "\n",
            "[342 rows x 14 columns]\n",
            "Clutch Completion                                     0\n",
            "Culmen Length (mm)                                    0\n",
            "Culmen Depth (mm)                                     0\n",
            "Flipper Length (mm)                                   0\n",
            "Sex                                                   9\n",
            "Delta 15 N (o/oo)                                    12\n",
            "Delta 13 C (o/oo)                                    11\n",
            "Body Mass (g)                                         0\n",
            "Island_Biscoe                                         0\n",
            "Island_Dream                                          0\n",
            "Island_Torgersen                                      0\n",
            "Species_Adelie Penguin (Pygoscelis adeliae)           0\n",
            "Species_Chinstrap penguin (Pygoscelis antarctica)     0\n",
            "Species_Gentoo penguin (Pygoscelis papua)             0\n",
            "dtype: int64\n",
            "Clutch Completion                                    0\n",
            "Culmen Length (mm)                                   0\n",
            "Culmen Depth (mm)                                    0\n",
            "Flipper Length (mm)                                  0\n",
            "Sex                                                  0\n",
            "Delta 15 N (o/oo)                                    0\n",
            "Delta 13 C (o/oo)                                    0\n",
            "Body Mass (g)                                        0\n",
            "Island_Biscoe                                        0\n",
            "Island_Dream                                         0\n",
            "Island_Torgersen                                     0\n",
            "Species_Adelie Penguin (Pygoscelis adeliae)          0\n",
            "Species_Chinstrap penguin (Pygoscelis antarctica)    0\n",
            "Species_Gentoo penguin (Pygoscelis papua)            0\n",
            "dtype: int64\n"
          ]
        }
      ]
    },
    {
      "cell_type": "code",
      "source": [
        "sex_features = ['Culmen Length (mm)', 'Culmen Depth (mm)',\n",
        "       'Flipper Length (mm)','Species_Adelie Penguin (Pygoscelis adeliae)',\n",
        "       'Species_Chinstrap penguin (Pygoscelis antarctica)',\n",
        "       'Species_Gentoo penguin (Pygoscelis papua)', 'Island_Biscoe', 'Island_Dream', 'Island_Torgersen'\n",
        "       ]\n",
        "\n",
        "models = []\n",
        "models.append(('LR',LogisticRegression(solver='liblinear',multi_class = 'ovr')))\n",
        "models.append(('LDA',LinearDiscriminantAnalysis()))\n",
        "models.append(('KNN',KNeighborsClassifier()))\n",
        "models.append(('CART',DecisionTreeClassifier()))\n",
        "models.append(('NB',GaussianNB()))\n",
        "models.append(('SVM',SVC(gamma='auto')))\n",
        "models.append(('RFC',RandomForestClassifier()))\n",
        "models.append(('XGBC',XGBClassifier(iterations=10000,verbose=False)))\n",
        "models.append(('LGBMC',LGBMClassifier()))\n",
        "models.append(('AdaC',AdaBoostClassifier()))\n",
        "results =[]\n",
        "names = []\n",
        "for name, model in models:\n",
        "  kfold = KFold(n_splits=10,random_state=7,shuffle = True)\n",
        "  cv_results = cross_val_score(model,all[sex_features].iloc[all['Sex'].dropna().index]\n",
        "                               ,all['Sex'].iloc[all['Sex'].dropna().index]\n",
        "                               ,cv= kfold,scoring='accuracy')\n",
        "  results.append(cv_results)\n",
        "  names.append(name)\n",
        "  msg = \"%s : %f (%f) \"%(name,cv_results.mean(),cv_results.std())\n",
        "  print(msg)"
      ],
      "metadata": {
        "colab": {
          "base_uri": "https://localhost:8080/"
        },
        "id": "_Bij3vrq3TiN",
        "outputId": "6c7b4274-8b7c-46ce-dacb-0dde74f1af1d"
      },
      "execution_count": 172,
      "outputs": [
        {
          "output_type": "stream",
          "name": "stdout",
          "text": [
            "LR : 0.781439 (0.066829) \n",
            "LDA : 0.870265 (0.058657) \n",
            "KNN : 0.833144 (0.044832) \n",
            "CART : 0.947727 (0.052823) \n",
            "NB : 0.728030 (0.075169) \n",
            "SVM : 0.889205 (0.045462) \n",
            "RFC : 0.956913 (0.031397) \n",
            "XGBC : 0.913636 (0.042527) \n",
            "LGBMC : 0.947727 (0.033378) \n",
            "AdaC : 0.895170 (0.033816) \n"
          ]
        }
      ]
    },
    {
      "cell_type": "code",
      "source": [
        "sex_model = RandomForestClassifier()\n",
        "sex_model.fit(all[sex_features].iloc[all['Sex'].dropna().index],all['Sex'].iloc[all['Sex'].dropna().index])\n",
        "train['Sex'].iloc[np.where(train['Sex'].isnull()==True)] =  sex_model.predict(train[train['Sex'].isnull()][sex_features])\n",
        "test['Sex'].iloc[np.where(test['Sex'].isnull()==True)] =  sex_model.predict(test[test['Sex'].isnull()][sex_features])"
      ],
      "metadata": {
        "colab": {
          "base_uri": "https://localhost:8080/"
        },
        "id": "PTv5Sc9XuLEh",
        "outputId": "252ec7ec-3fd9-4995-b166-660c8f367b36"
      },
      "execution_count": 173,
      "outputs": [
        {
          "output_type": "stream",
          "name": "stderr",
          "text": [
            "/usr/local/lib/python3.7/dist-packages/pandas/core/indexing.py:670: SettingWithCopyWarning: \n",
            "A value is trying to be set on a copy of a slice from a DataFrame\n",
            "\n",
            "See the caveats in the documentation: https://pandas.pydata.org/pandas-docs/stable/user_guide/indexing.html#returning-a-view-versus-a-copy\n",
            "  iloc._setitem_with_indexer(indexer, value)\n",
            "/usr/local/lib/python3.7/dist-packages/pandas/core/indexing.py:670: SettingWithCopyWarning: \n",
            "A value is trying to be set on a copy of a slice from a DataFrame\n",
            "\n",
            "See the caveats in the documentation: https://pandas.pydata.org/pandas-docs/stable/user_guide/indexing.html#returning-a-view-versus-a-copy\n",
            "  iloc._setitem_with_indexer(indexer, value)\n"
          ]
        }
      ]
    },
    {
      "cell_type": "code",
      "source": [
        "Delta_features = ['Culmen Length (mm)', 'Culmen Depth (mm)',\n",
        "       'Flipper Length (mm)','Species_Adelie Penguin (Pygoscelis adeliae)',\n",
        "       'Species_Chinstrap penguin (Pygoscelis antarctica)',\n",
        "       'Species_Gentoo penguin (Pygoscelis papua)', 'Island_Biscoe', 'Island_Dream', 'Island_Torgersen','Sex'\n",
        "       ]"
      ],
      "metadata": {
        "id": "hhtX3s7TuTR4"
      },
      "execution_count": 174,
      "outputs": []
    },
    {
      "cell_type": "code",
      "source": [
        "models = []\n",
        "models.append(('LR',LinearRegression()))\n",
        "models.append(('LASSO',Lasso()))\n",
        "models.append(('KNN',KNeighborsRegressor()))\n",
        "models.append(('CART',DecisionTreeRegressor()))\n",
        "models.append(('EN',ElasticNet()))\n",
        "models.append(('SVM',SVR()))\n",
        "models.append(('RFR',RandomForestRegressor()))\n",
        "models.append(('XGBR',XGBRegressor(iterations=10000,verbose=False)))\n",
        "models.append(('LGBMR',LGBMRegressor()))\n",
        "models.append(('AdaR',AdaBoostRegressor()))\n",
        "\n",
        "results =[]\n",
        "names = []\n",
        "for name, model in models:\n",
        "  kfold = KFold(n_splits=10,random_state=7,shuffle = True)\n",
        "  cv_results = cross_val_score(model,all[Delta_features].iloc[all['Delta 15 N (o/oo)'].dropna().index]\n",
        "                               ,all['Delta 15 N (o/oo)'].iloc[all['Delta 15 N (o/oo)'].dropna().index]\n",
        "                               ,cv= kfold,scoring='neg_mean_squared_error')\n",
        "  results.append(cv_results)\n",
        "  names.append(name)\n",
        "  msg = \"%s : %f (%f) \"%(name,cv_results.mean(),cv_results.std())\n",
        "  print(msg)"
      ],
      "metadata": {
        "colab": {
          "base_uri": "https://localhost:8080/"
        },
        "id": "b_oI0ooBuYtI",
        "outputId": "595dd524-8b62-40ee-a541-8ec64acdcd47"
      },
      "execution_count": 175,
      "outputs": [
        {
          "output_type": "stream",
          "name": "stdout",
          "text": [
            "LR : -0.122081 (0.027126) \n",
            "LASSO : -0.241071 (0.039259) \n",
            "KNN : -0.134840 (0.029572) \n",
            "CART : -0.129978 (0.030921) \n",
            "EN : -0.220587 (0.037271) \n",
            "SVM : -0.214196 (0.034958) \n",
            "RFR : -0.084821 (0.017664) \n",
            "[13:51:42] WARNING: /workspace/src/objective/regression_obj.cu:152: reg:linear is now deprecated in favor of reg:squarederror.\n",
            "[13:51:42] WARNING: /workspace/src/objective/regression_obj.cu:152: reg:linear is now deprecated in favor of reg:squarederror.\n",
            "[13:51:42] WARNING: /workspace/src/objective/regression_obj.cu:152: reg:linear is now deprecated in favor of reg:squarederror.\n",
            "[13:51:42] WARNING: /workspace/src/objective/regression_obj.cu:152: reg:linear is now deprecated in favor of reg:squarederror.\n",
            "[13:51:42] WARNING: /workspace/src/objective/regression_obj.cu:152: reg:linear is now deprecated in favor of reg:squarederror.\n",
            "[13:51:42] WARNING: /workspace/src/objective/regression_obj.cu:152: reg:linear is now deprecated in favor of reg:squarederror.\n",
            "[13:51:42] WARNING: /workspace/src/objective/regression_obj.cu:152: reg:linear is now deprecated in favor of reg:squarederror.\n",
            "[13:51:42] WARNING: /workspace/src/objective/regression_obj.cu:152: reg:linear is now deprecated in favor of reg:squarederror.\n",
            "[13:51:42] WARNING: /workspace/src/objective/regression_obj.cu:152: reg:linear is now deprecated in favor of reg:squarederror.\n",
            "[13:51:42] WARNING: /workspace/src/objective/regression_obj.cu:152: reg:linear is now deprecated in favor of reg:squarederror.\n",
            "XGBR : -0.093663 (0.021382) \n",
            "LGBMR : -0.119795 (0.026998) \n",
            "AdaR : -0.118422 (0.022551) \n"
          ]
        }
      ]
    },
    {
      "cell_type": "code",
      "source": [
        "d15_model = RandomForestRegressor()\n",
        "d15_model.fit(all[Delta_features].iloc[all['Delta 15 N (o/oo)'].dropna().index]\n",
        "                               ,all['Delta 15 N (o/oo)'].iloc[all['Delta 15 N (o/oo)'].dropna().index])\n",
        "train['Delta 15 N (o/oo)'].iloc[np.where(train['Delta 15 N (o/oo)'].isnull()==True)] =  d15_model.predict(train[train['Delta 15 N (o/oo)'].isnull()][Delta_features])\n",
        "test['Delta 15 N (o/oo)'].iloc[np.where(test['Delta 15 N (o/oo)'].isnull()==True)] =  d15_model.predict(test[test['Delta 15 N (o/oo)'].isnull()][Delta_features])"
      ],
      "metadata": {
        "colab": {
          "base_uri": "https://localhost:8080/"
        },
        "id": "YF8i8cl7umdf",
        "outputId": "1631c1c1-1ef3-4156-ca9f-b7b723838498"
      },
      "execution_count": 176,
      "outputs": [
        {
          "output_type": "stream",
          "name": "stderr",
          "text": [
            "/usr/local/lib/python3.7/dist-packages/pandas/core/indexing.py:670: SettingWithCopyWarning: \n",
            "A value is trying to be set on a copy of a slice from a DataFrame\n",
            "\n",
            "See the caveats in the documentation: https://pandas.pydata.org/pandas-docs/stable/user_guide/indexing.html#returning-a-view-versus-a-copy\n",
            "  iloc._setitem_with_indexer(indexer, value)\n",
            "/usr/local/lib/python3.7/dist-packages/pandas/core/indexing.py:670: SettingWithCopyWarning: \n",
            "A value is trying to be set on a copy of a slice from a DataFrame\n",
            "\n",
            "See the caveats in the documentation: https://pandas.pydata.org/pandas-docs/stable/user_guide/indexing.html#returning-a-view-versus-a-copy\n",
            "  iloc._setitem_with_indexer(indexer, value)\n"
          ]
        }
      ]
    },
    {
      "cell_type": "code",
      "source": [
        "models = []\n",
        "models.append(('LR',LinearRegression()))\n",
        "models.append(('LASSO',Lasso()))\n",
        "models.append(('KNN',KNeighborsRegressor()))\n",
        "models.append(('CART',DecisionTreeRegressor()))\n",
        "models.append(('EN',ElasticNet()))\n",
        "models.append(('SVM',SVR()))\n",
        "models.append(('RFR',RandomForestRegressor()))\n",
        "models.append(('XGBR',XGBRegressor(iterations=10000,verbose=False)))\n",
        "models.append(('LGBMR',LGBMRegressor()))\n",
        "models.append(('AdaR',AdaBoostRegressor()))\n",
        "results =[]\n",
        "names = []\n",
        "for name, model in models:\n",
        "  kfold = KFold(n_splits=10,random_state=7,shuffle = True)\n",
        "  cv_results = cross_val_score(model,all[Delta_features].iloc[all['Delta 13 C (o/oo)'].dropna().index]\n",
        "                               ,all['Delta 13 C (o/oo)'].iloc[all['Delta 13 C (o/oo)'].dropna().index]\n",
        "                               ,cv= kfold,scoring='neg_mean_squared_error')\n",
        "  results.append(cv_results)\n",
        "  names.append(name)\n",
        "  msg = \"%s : %f (%f) \"%(name,cv_results.mean(),cv_results.std())\n",
        "  print(msg)"
      ],
      "metadata": {
        "colab": {
          "base_uri": "https://localhost:8080/"
        },
        "id": "dxckiUzOuvWG",
        "outputId": "dd5ba35e-a266-4d37-f392-98f3d357ae38"
      },
      "execution_count": 177,
      "outputs": [
        {
          "output_type": "stream",
          "name": "stdout",
          "text": [
            "LR : -0.242914 (0.077114) \n",
            "LASSO : -0.430813 (0.064457) \n",
            "KNN : -0.289427 (0.040959) \n",
            "CART : -0.165639 (0.079138) \n",
            "EN : -0.360661 (0.068328) \n",
            "SVM : -0.479987 (0.067457) \n",
            "RFR : -0.136701 (0.044755) \n",
            "[13:51:49] WARNING: /workspace/src/objective/regression_obj.cu:152: reg:linear is now deprecated in favor of reg:squarederror.\n",
            "[13:51:49] WARNING: /workspace/src/objective/regression_obj.cu:152: reg:linear is now deprecated in favor of reg:squarederror.\n",
            "[13:51:49] WARNING: /workspace/src/objective/regression_obj.cu:152: reg:linear is now deprecated in favor of reg:squarederror.\n",
            "[13:51:49] WARNING: /workspace/src/objective/regression_obj.cu:152: reg:linear is now deprecated in favor of reg:squarederror.\n",
            "[13:51:49] WARNING: /workspace/src/objective/regression_obj.cu:152: reg:linear is now deprecated in favor of reg:squarederror.\n",
            "[13:51:49] WARNING: /workspace/src/objective/regression_obj.cu:152: reg:linear is now deprecated in favor of reg:squarederror.\n",
            "[13:51:49] WARNING: /workspace/src/objective/regression_obj.cu:152: reg:linear is now deprecated in favor of reg:squarederror.\n",
            "[13:51:50] WARNING: /workspace/src/objective/regression_obj.cu:152: reg:linear is now deprecated in favor of reg:squarederror.\n",
            "[13:51:50] WARNING: /workspace/src/objective/regression_obj.cu:152: reg:linear is now deprecated in favor of reg:squarederror.\n",
            "[13:51:50] WARNING: /workspace/src/objective/regression_obj.cu:152: reg:linear is now deprecated in favor of reg:squarederror.\n",
            "XGBR : -0.158873 (0.039435) \n",
            "LGBMR : -0.209625 (0.061164) \n",
            "AdaR : -0.230185 (0.057336) \n"
          ]
        }
      ]
    },
    {
      "cell_type": "code",
      "source": [
        "d13_model = RandomForestRegressor()\n",
        "d13_model.fit(all[Delta_features].iloc[all['Delta 13 C (o/oo)'].dropna().index]\n",
        "                               ,all['Delta 13 C (o/oo)'].iloc[all['Delta 13 C (o/oo)'].dropna().index])\n",
        "train['Delta 13 C (o/oo)'].iloc[np.where(train['Delta 13 C (o/oo)'].isnull()==True)] =  d13_model.predict(train[train['Delta 13 C (o/oo)'].isnull()][Delta_features])\n",
        "test['Delta 13 C (o/oo)'].iloc[np.where(test['Delta 13 C (o/oo)'].isnull()==True)] =  d13_model.predict(test[test['Delta 13 C (o/oo)'].isnull()][Delta_features])"
      ],
      "metadata": {
        "colab": {
          "base_uri": "https://localhost:8080/"
        },
        "id": "JvLzDZ4fu2It",
        "outputId": "8f57237d-235e-4c8d-caae-fb68943703ef"
      },
      "execution_count": 178,
      "outputs": [
        {
          "output_type": "stream",
          "name": "stderr",
          "text": [
            "/usr/local/lib/python3.7/dist-packages/pandas/core/indexing.py:670: SettingWithCopyWarning: \n",
            "A value is trying to be set on a copy of a slice from a DataFrame\n",
            "\n",
            "See the caveats in the documentation: https://pandas.pydata.org/pandas-docs/stable/user_guide/indexing.html#returning-a-view-versus-a-copy\n",
            "  iloc._setitem_with_indexer(indexer, value)\n",
            "/usr/local/lib/python3.7/dist-packages/pandas/core/indexing.py:670: SettingWithCopyWarning: \n",
            "A value is trying to be set on a copy of a slice from a DataFrame\n",
            "\n",
            "See the caveats in the documentation: https://pandas.pydata.org/pandas-docs/stable/user_guide/indexing.html#returning-a-view-versus-a-copy\n",
            "  iloc._setitem_with_indexer(indexer, value)\n"
          ]
        }
      ]
    },
    {
      "cell_type": "code",
      "source": [
        "test=test.drop(columns='Body Mass (g)')\n",
        "print(test)\n",
        "train.to_csv('new_train.csv',index=False)\n",
        "test.to_csv('new_test.csv',index=False)"
      ],
      "metadata": {
        "colab": {
          "base_uri": "https://localhost:8080/"
        },
        "id": "8IKiXKrR6rpE",
        "outputId": "c6f57ce0-f47c-4d32-b724-65dcd971303e"
      },
      "execution_count": 179,
      "outputs": [
        {
          "output_type": "stream",
          "name": "stdout",
          "text": [
            "     Clutch Completion  ...  Species_Gentoo penguin (Pygoscelis papua)\n",
            "0                    1  ...                                          0\n",
            "1                    1  ...                                          1\n",
            "2                    1  ...                                          0\n",
            "3                    1  ...                                          0\n",
            "4                    0  ...                                          0\n",
            "..                 ...  ...                                        ...\n",
            "223                  1  ...                                          0\n",
            "224                  1  ...                                          1\n",
            "225                  1  ...                                          1\n",
            "226                  1  ...                                          0\n",
            "227                  1  ...                                          0\n",
            "\n",
            "[228 rows x 13 columns]\n"
          ]
        }
      ]
    },
    {
      "cell_type": "code",
      "source": [
        "num_folds= 10\n",
        "seed = 7\n",
        "scoring = 'neg_root_mean_squared_error'\n",
        "\n",
        "X_all = train[test.columns.tolist()]\n",
        "y_all =train['Body Mass (g)']"
      ],
      "metadata": {
        "id": "SA2NCYOsu9UV"
      },
      "execution_count": 180,
      "outputs": []
    },
    {
      "cell_type": "code",
      "source": [
        "X_train, X_valid, y_train, y_valid = train_test_split(train[test.columns.tolist()],train['Body Mass (g)']\n",
        "                                                      ,test_size=0.2,random_state=seed)"
      ],
      "metadata": {
        "id": "MuRJX97Kvd7M"
      },
      "execution_count": 181,
      "outputs": []
    },
    {
      "cell_type": "code",
      "source": [
        "models = []\n",
        "models.append(('LR',LinearRegression()))\n",
        "models.append(('LASSO',Lasso()))\n",
        "models.append(('KNN',KNeighborsRegressor()))\n",
        "models.append(('CART',DecisionTreeRegressor()))\n",
        "models.append(('EN',ElasticNet()))\n",
        "models.append(('SVM',SVR()))\n",
        "models.append(('RFR',RandomForestRegressor()))\n",
        "models.append(('XGBR',XGBRegressor()))\n",
        "models.append(('LGBMR',LGBMRegressor()))\n",
        "models.append(('AdaR',AdaBoostRegressor()))\n",
        "models.append(('Xtree',ExtraTreesRegressor()))\n",
        "\n",
        "results =[]\n",
        "names = []\n",
        "for name, model in models:\n",
        "  kfold = KFold(n_splits=10,random_state=7,shuffle = True)\n",
        "  cv_results = cross_val_score(model,X_train,y_train\n",
        "                               ,cv= kfold,scoring=scoring)\n",
        "  results.append(cv_results)\n",
        "  names.append(name)\n",
        "  msg = \"%s : %f (%f) \"%(name,cv_results.mean(),cv_results.std())\n",
        "  print(msg)"
      ],
      "metadata": {
        "colab": {
          "base_uri": "https://localhost:8080/"
        },
        "id": "mjhAGl0_vf7S",
        "outputId": "fea21947-638b-4778-b1b6-b5cc8d31dfe7"
      },
      "execution_count": 182,
      "outputs": [
        {
          "output_type": "stream",
          "name": "stdout",
          "text": [
            "LR : -329.250497 (55.796625) \n",
            "LASSO : -327.811972 (54.513088) \n",
            "KNN : -388.766440 (54.708975) \n",
            "CART : -419.103774 (58.433948) \n",
            "EN : -376.419383 (57.038744) \n",
            "SVM : -775.629957 (193.158685) \n",
            "RFR : -336.946026 (97.161290) \n",
            "[13:52:03] WARNING: /workspace/src/objective/regression_obj.cu:152: reg:linear is now deprecated in favor of reg:squarederror.\n",
            "[13:52:03] WARNING: /workspace/src/objective/regression_obj.cu:152: reg:linear is now deprecated in favor of reg:squarederror.\n",
            "[13:52:03] WARNING: /workspace/src/objective/regression_obj.cu:152: reg:linear is now deprecated in favor of reg:squarederror.\n",
            "[13:52:03] WARNING: /workspace/src/objective/regression_obj.cu:152: reg:linear is now deprecated in favor of reg:squarederror.\n",
            "[13:52:03] WARNING: /workspace/src/objective/regression_obj.cu:152: reg:linear is now deprecated in favor of reg:squarederror.\n",
            "[13:52:03] WARNING: /workspace/src/objective/regression_obj.cu:152: reg:linear is now deprecated in favor of reg:squarederror.\n",
            "[13:52:03] WARNING: /workspace/src/objective/regression_obj.cu:152: reg:linear is now deprecated in favor of reg:squarederror.\n",
            "[13:52:03] WARNING: /workspace/src/objective/regression_obj.cu:152: reg:linear is now deprecated in favor of reg:squarederror.\n",
            "[13:52:03] WARNING: /workspace/src/objective/regression_obj.cu:152: reg:linear is now deprecated in favor of reg:squarederror.\n",
            "[13:52:03] WARNING: /workspace/src/objective/regression_obj.cu:152: reg:linear is now deprecated in favor of reg:squarederror.\n",
            "XGBR : -355.406770 (70.917867) \n",
            "LGBMR : -348.169202 (54.547893) \n",
            "AdaR : -345.648976 (67.213094) \n",
            "Xtree : -327.365239 (74.944176) \n"
          ]
        }
      ]
    },
    {
      "cell_type": "code",
      "source": [
        "pipelines = []\n",
        "pipelines.append(('ScaledLR',Pipeline([('Scaler',preprocessing.StandardScaler()),('LR',LinearRegression())])))\n",
        "pipelines.append(('ScaledLASSO',Pipeline([('Scaler',preprocessing.StandardScaler()),('LASSO',Lasso())])))\n",
        "pipelines.append(('ScaledKNN',Pipeline([('Scaler',preprocessing.StandardScaler()),('KNN',KNeighborsRegressor())])))\n",
        "pipelines.append(('ScaledCART',Pipeline([('Scaler',preprocessing.StandardScaler()),('CART',DecisionTreeRegressor())])))\n",
        "pipelines.append(('ScaledEN',Pipeline([('Scaler',preprocessing.StandardScaler()),('EN',ElasticNet())])))\n",
        "pipelines.append(('ScaledSVM',Pipeline([('Scaler',preprocessing.StandardScaler()),('SVM',SVR())])))\n",
        "pipelines.append(('ScaledRFR',Pipeline([('Scaler',preprocessing.StandardScaler()),('RFR',RandomForestRegressor())])))\n",
        "pipelines.append(('ScaledXGBR',Pipeline([('Scaler',preprocessing.StandardScaler()),('XGBR',XGBRegressor())])))\n",
        "pipelines.append(('ScaledLGBMR',Pipeline([('Scaler',preprocessing.StandardScaler()),('LGBMR',LGBMRegressor())])))\n",
        "pipelines.append(('ScaledAdaR',Pipeline([('Scaler',preprocessing.StandardScaler()),('AdaR',AdaBoostRegressor())])))\n",
        "pipelines.append(('ScaledXtree',Pipeline([('Scaler',preprocessing.StandardScaler()),('Xtree',ExtraTreesRegressor())])))\n",
        "\n",
        "results_scaled =[]\n",
        "names_scaled = []\n",
        "for name, model in pipelines:\n",
        "  kfold = KFold(n_splits=10,random_state=7,shuffle = True)\n",
        "  cv_results = cross_val_score(model,X_train,y_train\n",
        "                               ,cv= kfold,scoring=scoring)\n",
        "  results_scaled.append(cv_results)\n",
        "  names_scaled.append(name)\n",
        "  msg = \"%s : %f (%f) \"%(name,cv_results.mean(),cv_results.std())\n",
        "  print(msg)"
      ],
      "metadata": {
        "colab": {
          "base_uri": "https://localhost:8080/"
        },
        "id": "AyL1hEdVvwmR",
        "outputId": "b643eb26-cf50-4531-e113-7bcfaa88ec7a"
      },
      "execution_count": 183,
      "outputs": [
        {
          "output_type": "stream",
          "name": "stdout",
          "text": [
            "ScaledLR : -329.250497 (55.796625) \n",
            "ScaledLASSO : -328.978433 (54.498665) \n",
            "ScaledKNN : -343.609297 (70.157249) \n",
            "ScaledCART : -443.544597 (73.570612) \n",
            "ScaledEN : -343.513482 (60.269369) \n",
            "ScaledSVM : -767.478981 (192.286413) \n",
            "ScaledRFR : -333.450779 (75.157569) \n",
            "[13:52:11] WARNING: /workspace/src/objective/regression_obj.cu:152: reg:linear is now deprecated in favor of reg:squarederror.\n",
            "[13:52:11] WARNING: /workspace/src/objective/regression_obj.cu:152: reg:linear is now deprecated in favor of reg:squarederror.\n",
            "[13:52:11] WARNING: /workspace/src/objective/regression_obj.cu:152: reg:linear is now deprecated in favor of reg:squarederror.\n",
            "[13:52:11] WARNING: /workspace/src/objective/regression_obj.cu:152: reg:linear is now deprecated in favor of reg:squarederror.\n",
            "[13:52:11] WARNING: /workspace/src/objective/regression_obj.cu:152: reg:linear is now deprecated in favor of reg:squarederror.\n",
            "[13:52:11] WARNING: /workspace/src/objective/regression_obj.cu:152: reg:linear is now deprecated in favor of reg:squarederror.\n",
            "[13:52:11] WARNING: /workspace/src/objective/regression_obj.cu:152: reg:linear is now deprecated in favor of reg:squarederror.\n",
            "[13:52:11] WARNING: /workspace/src/objective/regression_obj.cu:152: reg:linear is now deprecated in favor of reg:squarederror.\n",
            "[13:52:11] WARNING: /workspace/src/objective/regression_obj.cu:152: reg:linear is now deprecated in favor of reg:squarederror.\n",
            "[13:52:11] WARNING: /workspace/src/objective/regression_obj.cu:152: reg:linear is now deprecated in favor of reg:squarederror.\n",
            "ScaledXGBR : -355.406770 (70.917867) \n",
            "ScaledLGBMR : -347.959674 (58.152578) \n",
            "ScaledAdaR : -354.328208 (60.853692) \n",
            "ScaledXtree : -322.522194 (69.951188) \n"
          ]
        }
      ]
    },
    {
      "cell_type": "code",
      "source": [
        "X_test=test\n",
        "\n",
        "from sklearn.preprocessing import StandardScaler\n",
        "scaler=StandardScaler()\n",
        "scaler.fit(X_all)\n",
        "X_all=scaler.transform(X_all)\n",
        "X_test=scaler.transform(X_test)\n",
        "\n",
        "\n",
        "from sklearn.ensemble import RandomForestRegressor\n",
        "model=RandomForestRegressor(max_depth=5, n_estimators=200, min_samples_leaf=8, min_samples_split=8)\n",
        "model.fit(X_all,y_all)\n",
        "\n",
        "from sklearn.linear_model import Lasso\n",
        "model_la=Lasso(alpha=0.2)\n",
        "model_la.fit(X_all,y_all)\n",
        "\n",
        "from sklearn.linear_model import LinearRegression\n",
        "model_lr=LinearRegression()\n",
        "model_lr.fit(X_all,y_all)\n",
        "\n",
        "import xgboost as xgb\n",
        "from xgboost import XGBRegressor\n",
        "model_xgb=XGBRegressor(max_depth=2)\n",
        "model_xgb.fit(X_all,y_all)\n",
        "\n",
        "model_xt=ExtraTreesRegressor()\n",
        "model_xt.fit(X_all,y_all)\n",
        "\n",
        "pred=model.predict(X_test)\n",
        "pred2=model_la.predict(X_test)\n",
        "pred3=model_lr.predict(X_test)\n",
        "pred4=model_xgb.predict(X_test)\n",
        "pred5=model_xt.predict(X_test)\n",
        "\n",
        "pred_fin=0.2*pred+0.2*pred2+0.2*pred3+0.2*pred4+0.2*pred5\n",
        "pred_fin=pd.DataFrame(pred_fin)\n",
        "pred_fin.columns=['Body Mass (g)']\n",
        "\n",
        "sub=pd.concat([test_id,pred_fin], axis=1)\n",
        "sub.columns=['id','Body Mass (g)']\n",
        "print(sub)\n",
        "\n",
        "sub.to_csv('penguin_massregress.csv', index=False)"
      ],
      "metadata": {
        "colab": {
          "base_uri": "https://localhost:8080/"
        },
        "id": "61gLzzgd8cbK",
        "outputId": "604e4616-dec5-447b-b5ad-888ed9160108"
      },
      "execution_count": 184,
      "outputs": [
        {
          "output_type": "stream",
          "name": "stdout",
          "text": [
            "[13:52:19] WARNING: /workspace/src/objective/regression_obj.cu:152: reg:linear is now deprecated in favor of reg:squarederror.\n",
            "      id  Body Mass (g)\n",
            "0      0    4299.072957\n",
            "1      1    5618.392469\n",
            "2      2    3552.990148\n",
            "3      3    3406.797551\n",
            "4      4    3485.140718\n",
            "..   ...            ...\n",
            "223  223    4146.452126\n",
            "224  224    4765.550244\n",
            "225  225    4612.496291\n",
            "226  226    3910.193105\n",
            "227  227    4114.112974\n",
            "\n",
            "[228 rows x 2 columns]\n"
          ]
        }
      ]
    }
  ]
}