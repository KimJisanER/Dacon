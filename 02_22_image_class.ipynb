{
  "nbformat": 4,
  "nbformat_minor": 0,
  "metadata": {
    "colab": {
      "name": "02_22_image_class.ipynb",
      "provenance": [],
      "collapsed_sections": [],
      "mount_file_id": "1iOOmyXtuvhKJVpLKUvMcL5TsEmDjt_Zp",
      "authorship_tag": "ABX9TyNFgQ4ZpAPUJTw9mLdCDnN7",
      "include_colab_link": true
    },
    "kernelspec": {
      "name": "python3",
      "display_name": "Python 3"
    },
    "language_info": {
      "name": "python"
    },
    "accelerator": "GPU"
  },
  "cells": [
    {
      "cell_type": "markdown",
      "metadata": {
        "id": "view-in-github",
        "colab_type": "text"
      },
      "source": [
        "<a href=\"https://colab.research.google.com/github/KimJisanER/Dacon/blob/main/02_22_image_class.ipynb\" target=\"_parent\"><img src=\"https://colab.research.google.com/assets/colab-badge.svg\" alt=\"Open In Colab\"/></a>"
      ]
    },
    {
      "cell_type": "code",
      "execution_count": 1,
      "metadata": {
        "id": "b5LhvleulAG0"
      },
      "outputs": [],
      "source": [
        "import os\n",
        "import warnings\n",
        "warnings.filterwarnings(action='ignore')\n",
        "\n",
        "os.environ[\"CUDA_VISIBLE_DEVICES\"]=\"0\" # GPU 할당"
      ]
    },
    {
      "cell_type": "code",
      "source": [
        "#create training dataset\n",
        "from glob import glob\n",
        "import numpy as np\n",
        "import PIL\n",
        "from PIL import Image\n",
        "\n",
        "path = '/content/drive/MyDrive/Image_classi/data/train/'\n",
        "\n",
        "training_images = []\n",
        "training_labels = []\n",
        "\n",
        "for filename in glob(path +\"*\"):\n",
        "    for img in glob(filename + \"/*.jpg\"):\n",
        "        an_img = PIL.Image.open(img) #read img\n",
        "        img_array = np.array(an_img) #img to array\n",
        "        training_images.append(img_array) #append array to training_images \n",
        "        label = filename.split('/')[7] #get label\n",
        "        training_labels.append(label) #append label\n",
        "        \n",
        "training_images = np.array(training_images)\n",
        "training_labels = np.array(training_labels)\n",
        "\n",
        "from sklearn.preprocessing import LabelEncoder\n",
        "\n",
        "le = LabelEncoder()\n",
        "training_labels= le.fit_transform(training_labels)\n",
        "training_labels = training_labels.reshape(-1,1)\n",
        "\n",
        "print(training_images.shape)\n",
        "print(training_labels.shape)"
      ],
      "metadata": {
        "colab": {
          "base_uri": "https://localhost:8080/"
        },
        "id": "is5B2KOylYtv",
        "outputId": "20a2b1e8-fc9a-48f5-ec5c-b28e9fc9bfe5"
      },
      "execution_count": 2,
      "outputs": [
        {
          "output_type": "stream",
          "name": "stdout",
          "text": [
            "(50000, 32, 32, 3)\n",
            "(50000, 1)\n"
          ]
        }
      ]
    },
    {
      "cell_type": "code",
      "source": [
        "print(training_labels)"
      ],
      "metadata": {
        "colab": {
          "base_uri": "https://localhost:8080/"
        },
        "id": "nBmv-0A1w5qi",
        "outputId": "83e5a856-1447-4472-8aed-f270aedcf1cf"
      },
      "execution_count": 3,
      "outputs": [
        {
          "output_type": "stream",
          "name": "stdout",
          "text": [
            "[[2]\n",
            " [2]\n",
            " [2]\n",
            " ...\n",
            " [5]\n",
            " [5]\n",
            " [5]]\n"
          ]
        }
      ]
    },
    {
      "cell_type": "code",
      "source": [
        "#create test dataset\n",
        "\n",
        "path = '/content/drive/MyDrive/Image_classi/data/test/'\n",
        "\n",
        "test_images = []\n",
        "test_idx = []\n",
        "\n",
        "flist = sorted(glob(path + '*.jpg'))\n",
        "\n",
        "for filename in flist:\n",
        "    an_img = PIL.Image.open(filename) #read img\n",
        "    img_array = np.array(an_img) #img to array\n",
        "    test_images.append(img_array) #append array to training_images \n",
        "    \n",
        "    label = filename.split('/')[7] #get id \n",
        "    test_idx.append(label) #append id\n",
        "    \n",
        "test_images = np.array(test_images)\n",
        "\n",
        "print(test_images.shape)\n",
        "print(test_idx[0:5])"
      ],
      "metadata": {
        "colab": {
          "base_uri": "https://localhost:8080/"
        },
        "id": "-D5tI5Gilh_t",
        "outputId": "5894542a-87c8-4e45-cf4c-4c77e27eaa49"
      },
      "execution_count": 4,
      "outputs": [
        {
          "output_type": "stream",
          "name": "stdout",
          "text": [
            "(10000, 32, 32, 3)\n",
            "['0000.jpg', '0001.jpg', '0002.jpg', '0003.jpg', '0004.jpg']\n"
          ]
        }
      ]
    },
    {
      "cell_type": "code",
      "source": [
        "import matplotlib.pyplot as plt\n",
        "%matplotlib inline\n",
        "\n",
        "for i in range(10):\n",
        "    plt.subplot(2, 5, i + 1)\n",
        "    plt.imshow(training_images[i])\n",
        "    print(training_labels[i], end=\",\")\n",
        "plt.show()"
      ],
      "metadata": {
        "colab": {
          "base_uri": "https://localhost:8080/",
          "height": 245
        },
        "id": "KGGAksWmsyyT",
        "outputId": "ce6b751f-2426-494a-c503-23d63f139e2a"
      },
      "execution_count": 5,
      "outputs": [
        {
          "output_type": "stream",
          "name": "stdout",
          "text": [
            "[2],[2],[2],[2],[2],[2],[2],[2],[2],[2],"
          ]
        },
        {
          "output_type": "display_data",
          "data": {
            "image/png": "[encoded data removed]",
            "text/plain": [
              "<Figure size 432x288 with 10 Axes>"
            ]
          },
          "metadata": {
            "needs_background": "light"
          }
        }
      ]
    },
    {
      "cell_type": "code",
      "source": [
        "from sklearn.model_selection import train_test_split\n",
        "\n",
        "X_train, X_valid, y_train, y_valid = train_test_split(training_images, training_labels, test_size=0.2, random_state=42)\n",
        "\n",
        "X_test = test_images"
      ],
      "metadata": {
        "id": "eIOuZ6zdmbEz"
      },
      "execution_count": 6,
      "outputs": []
    },
    {
      "cell_type": "code",
      "source": [
        "print('X_train 크기:',X_train.shape)\n",
        "print('X_valid 크기:',X_valid.shape)\n",
        "print('X_test  크기:',X_test.shape)"
      ],
      "metadata": {
        "colab": {
          "base_uri": "https://localhost:8080/"
        },
        "id": "Qtbm-nrnusur",
        "outputId": "e31038c2-6c31-467b-a370-c1f4438429a2"
      },
      "execution_count": 7,
      "outputs": [
        {
          "output_type": "stream",
          "name": "stdout",
          "text": [
            "X_train 크기: (40000, 32, 32, 3)\n",
            "X_valid 크기: (10000, 32, 32, 3)\n",
            "X_test  크기: (10000, 32, 32, 3)\n"
          ]
        }
      ]
    },
    {
      "cell_type": "code",
      "source": [
        "X_train = X_train / 255.0\n",
        "X_valid = X_valid / 255.0\n",
        "X_test = X_test / 255.0"
      ],
      "metadata": {
        "id": "Xa2335VwuxQ5"
      },
      "execution_count": 8,
      "outputs": []
    },
    {
      "cell_type": "code",
      "source": [
        "import tensorflow as tf\n",
        "\n",
        "model = tf.keras.models.Sequential([\n",
        "    tf.keras.layers.Conv2D(16, (3,3), activation='relu', padding='SAME',input_shape=(32, 32, 3)), #cnn layer\n",
        "    tf.keras.layers.MaxPooling2D(2, 2, padding='SAME'), #pooling layer\n",
        "    tf.keras.layers.Dropout(0.23), # 무작위로 퍼셉트론 비활성화(23%)\n",
        "    tf.keras.layers.Conv2D(32, (3,3), activation='relu', padding='SAME'),\n",
        "    tf.keras.layers.MaxPooling2D(2, 2, padding='SAME'),\n",
        "    tf.keras.layers.Dropout(0.23),\n",
        "    tf.keras.layers.Conv2D(32, (3,3), activation='relu', padding='SAME'),\n",
        "    tf.keras.layers.MaxPooling2D(2, 2, padding='SAME'),\n",
        "    tf.keras.layers.Dropout(0.23),\n",
        "    tf.keras.layers.Flatten(), # N차원 배열 -> 1차원 배열\n",
        "    tf.keras.layers.Dense(1024, activation = 'relu'), #fully connected layer\n",
        "    tf.keras.layers.Dropout(0.5),\n",
        "    tf.keras.layers.Dense(10, activation = 'softmax') # ouput layer\n",
        "])"
      ],
      "metadata": {
        "id": "eU7bApxovfCw"
      },
      "execution_count": 9,
      "outputs": []
    },
    {
      "cell_type": "code",
      "source": [
        "tf.config.run_functions_eagerly(False)"
      ],
      "metadata": {
        "id": "qrrDItDB60iT"
      },
      "execution_count": 10,
      "outputs": []
    },
    {
      "cell_type": "code",
      "source": [
        "model.compile(optimizer='adam', loss = 'sparse_categorical_crossentropy', metrics=['accuracy'])"
      ],
      "metadata": {
        "id": "F0wTw4Dt1vPF"
      },
      "execution_count": 11,
      "outputs": []
    },
    {
      "cell_type": "code",
      "source": [
        "model.summary()"
      ],
      "metadata": {
        "colab": {
          "base_uri": "https://localhost:8080/"
        },
        "id": "xBs5_T_p1v15",
        "outputId": "ddc90ee7-b976-4caa-e802-f6de17ff17b4"
      },
      "execution_count": 12,
      "outputs": [
        {
          "output_type": "stream",
          "name": "stdout",
          "text": [
            "Model: \"sequential\"\n",
            "_________________________________________________________________\n",
            " Layer (type)                Output Shape              Param #   \n",
            "=================================================================\n",
            " conv2d (Conv2D)             (None, 32, 32, 16)        448       \n",
            "                                                                 \n",
            " max_pooling2d (MaxPooling2D  (None, 16, 16, 16)       0         \n",
            " )                                                               \n",
            "                                                                 \n",
            " dropout (Dropout)           (None, 16, 16, 16)        0         \n",
            "                                                                 \n",
            " conv2d_1 (Conv2D)           (None, 16, 16, 32)        4640      \n",
            "                                                                 \n",
            " max_pooling2d_1 (MaxPooling  (None, 8, 8, 32)         0         \n",
            " 2D)                                                             \n",
            "                                                                 \n",
            " dropout_1 (Dropout)         (None, 8, 8, 32)          0         \n",
            "                                                                 \n",
            " conv2d_2 (Conv2D)           (None, 8, 8, 32)          9248      \n",
            "                                                                 \n",
            " max_pooling2d_2 (MaxPooling  (None, 4, 4, 32)         0         \n",
            " 2D)                                                             \n",
            "                                                                 \n",
            " dropout_2 (Dropout)         (None, 4, 4, 32)          0         \n",
            "                                                                 \n",
            " flatten (Flatten)           (None, 512)               0         \n",
            "                                                                 \n",
            " dense (Dense)               (None, 1024)              525312    \n",
            "                                                                 \n",
            " dropout_3 (Dropout)         (None, 1024)              0         \n",
            "                                                                 \n",
            " dense_1 (Dense)             (None, 10)                10250     \n",
            "                                                                 \n",
            "=================================================================\n",
            "Total params: 549,898\n",
            "Trainable params: 549,898\n",
            "Non-trainable params: 0\n",
            "_________________________________________________________________\n"
          ]
        }
      ]
    },
    {
      "cell_type": "code",
      "source": [
        "model.fit(X_train, y_train, validation_data=(X_valid, y_valid), epochs=30, batch_size=128)"
      ],
      "metadata": {
        "colab": {
          "base_uri": "https://localhost:8080/"
        },
        "id": "9drjriv411by",
        "outputId": "f2e8cf38-7dc0-4af4-d823-ce757305717f"
      },
      "execution_count": 13,
      "outputs": [
        {
          "output_type": "stream",
          "name": "stdout",
          "text": [
            "Epoch 1/30\n",
            "313/313 [==============================] - 15s 15ms/step - loss: 1.7512 - accuracy: 0.3512 - val_loss: 1.4536 - val_accuracy: 0.4750\n",
            "Epoch 2/30\n",
            "313/313 [==============================] - 4s 13ms/step - loss: 1.4513 - accuracy: 0.4693 - val_loss: 1.3058 - val_accuracy: 0.5411\n",
            "Epoch 3/30\n",
            "313/313 [==============================] - 4s 14ms/step - loss: 1.3345 - accuracy: 0.5183 - val_loss: 1.2138 - val_accuracy: 0.5693\n",
            "Epoch 4/30\n",
            "313/313 [==============================] - 4s 13ms/step - loss: 1.2664 - accuracy: 0.5450 - val_loss: 1.1739 - val_accuracy: 0.5890\n",
            "Epoch 5/30\n",
            "313/313 [==============================] - 4s 13ms/step - loss: 1.2113 - accuracy: 0.5663 - val_loss: 1.0885 - val_accuracy: 0.6253\n",
            "Epoch 6/30\n",
            "313/313 [==============================] - 4s 13ms/step - loss: 1.1506 - accuracy: 0.5905 - val_loss: 1.0518 - val_accuracy: 0.6320\n",
            "Epoch 7/30\n",
            "313/313 [==============================] - 4s 14ms/step - loss: 1.1090 - accuracy: 0.6061 - val_loss: 1.0245 - val_accuracy: 0.6346\n",
            "Epoch 8/30\n",
            "313/313 [==============================] - 4s 13ms/step - loss: 1.0797 - accuracy: 0.6162 - val_loss: 0.9779 - val_accuracy: 0.6522\n",
            "Epoch 9/30\n",
            "313/313 [==============================] - 4s 13ms/step - loss: 1.0478 - accuracy: 0.6271 - val_loss: 0.9361 - val_accuracy: 0.6722\n",
            "Epoch 10/30\n",
            "313/313 [==============================] - 4s 14ms/step - loss: 1.0242 - accuracy: 0.6371 - val_loss: 0.9240 - val_accuracy: 0.6755\n",
            "Epoch 11/30\n",
            "313/313 [==============================] - 4s 14ms/step - loss: 0.9958 - accuracy: 0.6481 - val_loss: 0.9589 - val_accuracy: 0.6594\n",
            "Epoch 12/30\n",
            "313/313 [==============================] - 4s 13ms/step - loss: 0.9811 - accuracy: 0.6531 - val_loss: 0.8786 - val_accuracy: 0.6985\n",
            "Epoch 13/30\n",
            "313/313 [==============================] - 4s 13ms/step - loss: 0.9573 - accuracy: 0.6579 - val_loss: 0.8974 - val_accuracy: 0.6841\n",
            "Epoch 14/30\n",
            "313/313 [==============================] - 4s 14ms/step - loss: 0.9314 - accuracy: 0.6724 - val_loss: 0.8790 - val_accuracy: 0.6912\n",
            "Epoch 15/30\n",
            "313/313 [==============================] - 4s 13ms/step - loss: 0.9194 - accuracy: 0.6750 - val_loss: 0.8408 - val_accuracy: 0.7046\n",
            "Epoch 16/30\n",
            "313/313 [==============================] - 4s 14ms/step - loss: 0.9017 - accuracy: 0.6809 - val_loss: 0.8441 - val_accuracy: 0.7001\n",
            "Epoch 17/30\n",
            "313/313 [==============================] - 4s 13ms/step - loss: 0.8911 - accuracy: 0.6838 - val_loss: 0.8028 - val_accuracy: 0.7191\n",
            "Epoch 18/30\n",
            "313/313 [==============================] - 4s 14ms/step - loss: 0.8708 - accuracy: 0.6920 - val_loss: 0.7949 - val_accuracy: 0.7237\n",
            "Epoch 19/30\n",
            "313/313 [==============================] - 4s 13ms/step - loss: 0.8598 - accuracy: 0.6950 - val_loss: 0.7967 - val_accuracy: 0.7205\n",
            "Epoch 20/30\n",
            "313/313 [==============================] - 4s 13ms/step - loss: 0.8457 - accuracy: 0.7025 - val_loss: 0.7923 - val_accuracy: 0.7237\n",
            "Epoch 21/30\n",
            "313/313 [==============================] - 4s 13ms/step - loss: 0.8346 - accuracy: 0.7046 - val_loss: 0.7987 - val_accuracy: 0.7259\n",
            "Epoch 22/30\n",
            "313/313 [==============================] - 4s 14ms/step - loss: 0.8309 - accuracy: 0.7087 - val_loss: 0.7798 - val_accuracy: 0.7240\n",
            "Epoch 23/30\n",
            "313/313 [==============================] - 4s 13ms/step - loss: 0.8123 - accuracy: 0.7137 - val_loss: 0.7840 - val_accuracy: 0.7312\n",
            "Epoch 24/30\n",
            "313/313 [==============================] - 4s 14ms/step - loss: 0.8079 - accuracy: 0.7154 - val_loss: 0.7726 - val_accuracy: 0.7339\n",
            "Epoch 25/30\n",
            "313/313 [==============================] - 4s 13ms/step - loss: 0.7916 - accuracy: 0.7210 - val_loss: 0.7522 - val_accuracy: 0.7337\n",
            "Epoch 26/30\n",
            "313/313 [==============================] - 4s 14ms/step - loss: 0.7840 - accuracy: 0.7247 - val_loss: 0.7774 - val_accuracy: 0.7277\n",
            "Epoch 27/30\n",
            "313/313 [==============================] - 4s 14ms/step - loss: 0.7814 - accuracy: 0.7223 - val_loss: 0.7457 - val_accuracy: 0.7409\n",
            "Epoch 28/30\n",
            "313/313 [==============================] - 4s 13ms/step - loss: 0.7780 - accuracy: 0.7235 - val_loss: 0.7655 - val_accuracy: 0.7322\n",
            "Epoch 29/30\n",
            "313/313 [==============================] - 4s 14ms/step - loss: 0.7656 - accuracy: 0.7270 - val_loss: 0.8020 - val_accuracy: 0.7205\n",
            "Epoch 30/30\n",
            "313/313 [==============================] - 4s 14ms/step - loss: 0.7612 - accuracy: 0.7282 - val_loss: 0.7622 - val_accuracy: 0.7354\n"
          ]
        },
        {
          "output_type": "execute_result",
          "data": {
            "text/plain": [
              "<keras.callbacks.History at 0x7f3a004c8a90>"
            ]
          },
          "metadata": {},
          "execution_count": 13
        }
      ]
    },
    {
      "cell_type": "code",
      "source": [
        "pred_proba = model.predict(X_test) \n",
        "\n",
        "pred_class = []\n",
        "\n",
        "for i in pred_proba:\n",
        "    pred = np.argmax(i)\n",
        "    pred_class.append(pred)\n",
        "    \n",
        "pred_class = le.inverse_transform(pred_class)\n",
        "pred_class[0:5]"
      ],
      "metadata": {
        "colab": {
          "base_uri": "https://localhost:8080/"
        },
        "id": "vSceMGxt1416",
        "outputId": "e373f523-dec2-4cfe-a320-b7f75ba7651d"
      },
      "execution_count": 14,
      "outputs": [
        {
          "output_type": "execute_result",
          "data": {
            "text/plain": [
              "array(['horse', 'bird', 'airplane', 'bird', 'airplane'], dtype='<U10')"
            ]
          },
          "metadata": {},
          "execution_count": 14
        }
      ]
    },
    {
      "cell_type": "code",
      "source": [
        "import pandas as pd\n",
        "\n",
        "sample_submission = pd.read_csv(\"/content/drive/MyDrive/Image_classi/data/sample_submission.csv\")\n",
        "\n",
        "sample_submission.target = pred_class\n",
        "sample_submission.to_csv(\"22_02_22_submit_2.csv\",index=False)"
      ],
      "metadata": {
        "id": "yQLnRXTh18Th"
      },
      "execution_count": 15,
      "outputs": []
    }
  ]
}