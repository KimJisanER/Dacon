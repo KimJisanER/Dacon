{
  "nbformat": 4,
  "nbformat_minor": 0,
  "metadata": {
    "colab": {
      "name": "penguin_MassRegre.ipynb",
      "provenance": [],
      "mount_file_id": "1luViXeYRhNUeXhsxYR73G65fTOFz-CyI",
      "authorship_tag": "ABX9TyNwSb18so7aHFrrnQ7n5+cL",
      "include_colab_link": true
    },
    "kernelspec": {
      "name": "python3",
      "display_name": "Python 3"
    },
    "language_info": {
      "name": "python"
    }
  },
  "cells": [
    {
      "cell_type": "markdown",
      "metadata": {
        "id": "view-in-github",
        "colab_type": "text"
      },
      "source": [
        "<a href=\"https://colab.research.google.com/github/KimJisanER/Dacon/blob/main/penguin_MassRegre.ipynb\" target=\"_parent\"><img src=\"https://colab.research.google.com/assets/colab-badge.svg\" alt=\"Open In Colab\"/></a>"
      ]
    },
    {
      "cell_type": "code",
      "execution_count": 1,
      "metadata": {
        "colab": {
          "base_uri": "https://localhost:8080/"
        },
        "id": "k81r1Dwz5Lpm",
        "outputId": "66f13a1c-2c2a-4e25-f750-3d27cc6d2778"
      },
      "outputs": [
        {
          "output_type": "stream",
          "name": "stdout",
          "text": [
            "                                                     0  ...                                  4\n",
            "id                                                   0  ...                                  4\n",
            "Species              Gentoo penguin (Pygoscelis papua)  ...  Gentoo penguin (Pygoscelis papua)\n",
            "Island                                          Biscoe  ...                             Biscoe\n",
            "Clutch Completion                                  Yes  ...                                 No\n",
            "Culmen Length (mm)                                  50  ...                               49.6\n",
            "Culmen Depth (mm)                                 15.3  ...                                 16\n",
            "Flipper Length (mm)                                220  ...                                225\n",
            "Sex                                               MALE  ...                               MALE\n",
            "Delta 15 N (o/oo)                              8.30515  ...                            8.38324\n",
            "Delta 13 C (o/oo)                             -25.1902  ...                           -26.8427\n",
            "Body Mass (g)                                     5550  ...                               5700\n",
            "\n",
            "[11 rows x 5 columns]\n",
            "                                                             0  ...                                    4\n",
            "id                                                           0  ...                                    4\n",
            "Species              Chinstrap penguin (Pygoscelis antarctica)  ...  Adelie Penguin (Pygoscelis adeliae)\n",
            "Island                                                   Dream  ...                               Biscoe\n",
            "Clutch Completion                                          Yes  ...                                   No\n",
            "Culmen Length (mm)                                          52  ...                                 37.9\n",
            "Culmen Depth (mm)                                         20.7  ...                                 18.6\n",
            "Flipper Length (mm)                                        210  ...                                  172\n",
            "Sex                                                       MALE  ...                               FEMALE\n",
            "Delta 15 N (o/oo)                                      9.43146  ...                              8.38404\n",
            "Delta 13 C (o/oo)                                     -24.6844  ...                             -25.1984\n",
            "\n",
            "[10 rows x 5 columns]\n"
          ]
        }
      ],
      "source": [
        "import pandas as pd\n",
        "import numpy as np\n",
        "\n",
        "\n",
        "path='/content/drive/MyDrive/penguin/'\n",
        "\n",
        "train=pd.read_csv(path+'train.csv')\n",
        "test=pd.read_csv(path+'test.csv')\n",
        "\n",
        "print(train.head().T)\n",
        "print(test.head().T)"
      ]
    },
    {
      "cell_type": "code",
      "source": [
        "X_train=train.iloc[:,1:10]\n",
        "y_train=train.loc[:,'Body Mass (g)']\n",
        "test_id=test.iloc[:,0]\n",
        "X_test=test.iloc[:,1:]\n",
        "\n",
        "\n",
        "# print(X_train.T.head(11))\n",
        "# print(y_train.T.head(11))\n",
        "# print(test_id)"
      ],
      "metadata": {
        "id": "cPwwsYik6WuK"
      },
      "execution_count": 2,
      "outputs": []
    },
    {
      "cell_type": "code",
      "source": [
        "print(X_train.isnull().sum())\n",
        "print(X_test.isnull().sum())"
      ],
      "metadata": {
        "colab": {
          "base_uri": "https://localhost:8080/"
        },
        "id": "GNk5dUQk7R--",
        "outputId": "531182ab-1938-4aa2-ceea-89e38e13a830"
      },
      "execution_count": 3,
      "outputs": [
        {
          "output_type": "stream",
          "name": "stdout",
          "text": [
            "Species                0\n",
            "Island                 0\n",
            "Clutch Completion      0\n",
            "Culmen Length (mm)     0\n",
            "Culmen Depth (mm)      0\n",
            "Flipper Length (mm)    0\n",
            "Sex                    3\n",
            "Delta 15 N (o/oo)      3\n",
            "Delta 13 C (o/oo)      3\n",
            "dtype: int64\n",
            "Species                0\n",
            "Island                 0\n",
            "Clutch Completion      0\n",
            "Culmen Length (mm)     0\n",
            "Culmen Depth (mm)      0\n",
            "Flipper Length (mm)    0\n",
            "Sex                    6\n",
            "Delta 15 N (o/oo)      9\n",
            "Delta 13 C (o/oo)      8\n",
            "dtype: int64\n"
          ]
        }
      ]
    },
    {
      "cell_type": "code",
      "source": [
        "\n",
        "pd.set_option('display.max_columns', 15)\n",
        "\n",
        "print(X_train.describe())\n",
        "print(X_test.describe())"
      ],
      "metadata": {
        "colab": {
          "base_uri": "https://localhost:8080/"
        },
        "id": "PzVzOH3g73ZS",
        "outputId": "e3ab6aac-aac2-481a-9ca3-f173fc6c8aac"
      },
      "execution_count": 4,
      "outputs": [
        {
          "output_type": "stream",
          "name": "stdout",
          "text": [
            "       Culmen Length (mm)  Culmen Depth (mm)  Flipper Length (mm)  \\\n",
            "count          114.000000         114.000000           114.000000   \n",
            "mean            44.613158          17.014912           203.052632   \n",
            "std              5.321829           1.941363            14.653425   \n",
            "min             33.500000          13.200000           174.000000   \n",
            "25%             40.325000          15.225000           190.000000   \n",
            "50%             45.200000          17.250000           199.000000   \n",
            "75%             49.075000          18.600000           216.000000   \n",
            "max             55.100000          21.100000           231.000000   \n",
            "\n",
            "       Delta 15 N (o/oo)  Delta 13 C (o/oo)  \n",
            "count         111.000000         111.000000  \n",
            "mean            8.737634         -25.723051  \n",
            "std             0.567698           0.859786  \n",
            "min             7.632200         -27.018540  \n",
            "25%             8.272585         -26.434025  \n",
            "50%             8.632590         -25.955410  \n",
            "75%             9.264635         -25.005945  \n",
            "max            10.025440         -24.102550  \n",
            "       Culmen Length (mm)  Culmen Depth (mm)  Flipper Length (mm)  \\\n",
            "count          228.000000         228.000000           228.000000   \n",
            "mean            43.576316          17.219298           199.846491   \n",
            "std              5.506157           1.992027            13.663938   \n",
            "min             32.100000          13.100000           172.000000   \n",
            "25%             38.900000          15.700000           189.750000   \n",
            "50%             43.250000          17.500000           196.000000   \n",
            "75%             48.100000          18.700000           212.000000   \n",
            "max             59.600000          21.500000           230.000000   \n",
            "\n",
            "       Delta 15 N (o/oo)  Delta 13 C (o/oo)  \n",
            "count         219.000000         220.000000  \n",
            "mean            8.731226         -25.667745  \n",
            "std             0.544827           0.759964  \n",
            "min             7.685280         -26.864850  \n",
            "25%             8.325385         -26.236812  \n",
            "50%             8.675380         -25.806100  \n",
            "75%             9.109330         -25.115125  \n",
            "max            10.023720         -23.787670  \n"
          ]
        }
      ]
    },
    {
      "cell_type": "code",
      "source": [
        "X_train['Delta 15 N (o/oo)']=X_train['Delta 15 N (o/oo)'].fillna(X_train['Delta 15 N (o/oo)'].mean())\n",
        "X_test['Delta 15 N (o/oo)']=X_test['Delta 15 N (o/oo)'].fillna(X_test['Delta 15 N (o/oo)'].mean())\n",
        "\n",
        "X_train['Delta 13 C (o/oo)']=X_train['Delta 13 C (o/oo)'].fillna(X_train['Delta 13 C (o/oo)'].mean())\n",
        "X_test['Delta 13 C (o/oo)']=X_test['Delta 13 C (o/oo)'].fillna(X_test['Delta 13 C (o/oo)'].mean())\n",
        "\n",
        "print(X_train.isnull().sum())\n",
        "print(X_test.isnull().sum())"
      ],
      "metadata": {
        "colab": {
          "base_uri": "https://localhost:8080/"
        },
        "id": "dcczN3YK9bsk",
        "outputId": "8ae4e187-b131-4780-da1a-6e2598e3eadc"
      },
      "execution_count": 5,
      "outputs": [
        {
          "output_type": "stream",
          "name": "stdout",
          "text": [
            "Species                0\n",
            "Island                 0\n",
            "Clutch Completion      0\n",
            "Culmen Length (mm)     0\n",
            "Culmen Depth (mm)      0\n",
            "Flipper Length (mm)    0\n",
            "Sex                    3\n",
            "Delta 15 N (o/oo)      0\n",
            "Delta 13 C (o/oo)      0\n",
            "dtype: int64\n",
            "Species                0\n",
            "Island                 0\n",
            "Clutch Completion      0\n",
            "Culmen Length (mm)     0\n",
            "Culmen Depth (mm)      0\n",
            "Flipper Length (mm)    0\n",
            "Sex                    6\n",
            "Delta 15 N (o/oo)      0\n",
            "Delta 13 C (o/oo)      0\n",
            "dtype: int64\n"
          ]
        }
      ]
    },
    {
      "cell_type": "code",
      "source": [
        "label=[]\n",
        "\n",
        "for i in X_train.columns:\n",
        "  if X_train.dtypes[i] == 'object':\n",
        "    label.append(i)\n",
        "\n",
        "print(label)"
      ],
      "metadata": {
        "colab": {
          "base_uri": "https://localhost:8080/"
        },
        "id": "FS4A4bnEBtUC",
        "outputId": "093a1d9c-8cfa-4950-fa74-dce99b6b35ec"
      },
      "execution_count": 6,
      "outputs": [
        {
          "output_type": "stream",
          "name": "stdout",
          "text": [
            "['Species', 'Island', 'Clutch Completion', 'Sex']\n"
          ]
        }
      ]
    },
    {
      "cell_type": "code",
      "source": [
        "from sklearn.preprocessing import LabelEncoder\n",
        "X_train.loc[:,label]=X_train.loc[:,label].apply(LabelEncoder().fit_transform)\n",
        "X_test.loc[:,label]=X_test.loc[:,label].apply(LabelEncoder().fit_transform)"
      ],
      "metadata": {
        "id": "f8UIwaBZAOhY"
      },
      "execution_count": 48,
      "outputs": []
    },
    {
      "cell_type": "code",
      "source": [
        "from sklearn.model_selection import train_test_split\n",
        "nX_train,nX_val,ny_train,ny_val=train_test_split(X_train, y_train, test_size=0.1, random_state=42)"
      ],
      "metadata": {
        "id": "5uPJjT3kne3A"
      },
      "execution_count": 53,
      "outputs": []
    },
    {
      "cell_type": "code",
      "source": [
        "# from sklearn.preprocessing import StandardScaler\n",
        "# scaler=StandardScaler()\n",
        "# scaler.fit(nX_train)\n",
        "# nX_train=scaler.fit_transform(nX_train)\n",
        "# nX_val=scaler.fit_transform(nX_val)"
      ],
      "metadata": {
        "id": "D7ZX9SZpp1Jd"
      },
      "execution_count": 40,
      "outputs": []
    },
    {
      "cell_type": "code",
      "source": [
        "from sklearn.ensemble import RandomForestRegressor\n",
        "model=RandomForestRegressor(max_depth=5, n_estimators=200, min_samples_leaf=8, min_samples_split=8)\n",
        "model.fit(nX_train,ny_train)\n",
        "print(model.score(nX_train,ny_train))\n",
        "print(model.score(nX_val,ny_val))"
      ],
      "metadata": {
        "colab": {
          "base_uri": "https://localhost:8080/"
        },
        "id": "F-uG52i8oI_F",
        "outputId": "c0abc28e-324c-4300-ae67-710814a19cc4"
      },
      "execution_count": 70,
      "outputs": [
        {
          "output_type": "stream",
          "name": "stdout",
          "text": [
            "0.8650746753558317\n",
            "0.8270601635581216\n"
          ]
        }
      ]
    },
    {
      "cell_type": "code",
      "source": [
        "param_grid={'max_depth':range(3,10),\n",
        "            'n_estimators':range(100,400,100),\n",
        "            'min_samples_leaf' : [8, 12, 18],\n",
        "            'min_samples_split' : [8, 16, 20]}\n",
        "from sklearn.model_selection import GridSearchCV\n",
        "grid_search=GridSearchCV(RandomForestRegressor(),param_grid, cv=5)\n",
        "grid_search.fit(nX_train,ny_train)\n",
        "\n",
        "print(\"Best Parameter: {}\".format(grid_search.best_params_))\n",
        "print(\"Best Score: {:.4f}\".format(grid_search.best_score_))\n",
        "print(\"TestSet Score: {:.4f}\".format(grid_search.score(nX_val, ny_val)))"
      ],
      "metadata": {
        "colab": {
          "base_uri": "https://localhost:8080/"
        },
        "id": "CE8r5Xa6sl9Z",
        "outputId": "6afb9b70-6f6c-46b1-af25-c302f6091219"
      },
      "execution_count": 68,
      "outputs": [
        {
          "output_type": "stream",
          "name": "stdout",
          "text": [
            "Best Parameter: {'max_depth': 5, 'min_samples_leaf': 8, 'min_samples_split': 8, 'n_estimators': 200}\n",
            "Best Score: 0.8010\n",
            "TestSet Score: 0.8329\n"
          ]
        }
      ]
    },
    {
      "cell_type": "code",
      "source": [
        "import numpy as np\n",
        "\n",
        "def RMSE(true, pred):\n",
        "    score = np.sqrt(np.mean(np.square(true-pred)))\n",
        "    return score"
      ],
      "metadata": {
        "id": "WvPvmWfWo92D"
      },
      "execution_count": 71,
      "outputs": []
    },
    {
      "cell_type": "code",
      "source": [
        "pred=model.predict(nX_val)\n",
        "\n",
        "RMSE(ny_val,pred)"
      ],
      "metadata": {
        "colab": {
          "base_uri": "https://localhost:8080/"
        },
        "id": "W4CDXEXXpYnv",
        "outputId": "c1f739c2-93cd-47b0-cd23-c8ef8911a957"
      },
      "execution_count": 72,
      "outputs": [
        {
          "output_type": "execute_result",
          "data": {
            "text/plain": [
              "285.8081528970343"
            ]
          },
          "metadata": {},
          "execution_count": 72
        }
      ]
    },
    {
      "cell_type": "code",
      "source": [
        "from sklearn.ensemble import RandomForestRegressor\n",
        "model_fin=RandomForestRegressor(max_depth=5, n_estimators=200, min_samples_leaf=8, min_samples_split=8)\n",
        "model_fin.fit(X_train,y_train)\n",
        "print(model_fin.score(nX_train,ny_train))"
      ],
      "metadata": {
        "colab": {
          "base_uri": "https://localhost:8080/"
        },
        "id": "bAPJqRobyTmJ",
        "outputId": "2b4e563a-535b-4eb8-c1c8-b8a754f8f7c0"
      },
      "execution_count": 73,
      "outputs": [
        {
          "output_type": "stream",
          "name": "stdout",
          "text": [
            "0.8597269098817826\n"
          ]
        }
      ]
    },
    {
      "cell_type": "code",
      "source": [
        "pred_fin=model_fin.predict(X_test)\n",
        "pred_fin=pd.DataFrame(pred_fin)\n",
        "\n",
        "sub=pd.concat([test_id,pred_fin], axis=1)\n",
        "sub.columns=['id','Body Mass (g)']\n",
        "print(sub)\n",
        "\n",
        "sub.to_csv('penguin_massregress.csv', index=False)\n",
        "# print(pred_fin)\n"
      ],
      "metadata": {
        "colab": {
          "base_uri": "https://localhost:8080/"
        },
        "id": "wfp2RQggyl0t",
        "outputId": "59025139-43ca-4f22-c7ef-69575ebd6366"
      },
      "execution_count": 82,
      "outputs": [
        {
          "output_type": "stream",
          "name": "stdout",
          "text": [
            "      id  Body Mass (g)\n",
            "0      0    4398.207129\n",
            "1      1    5495.344151\n",
            "2      2    3478.370013\n",
            "3      3    3443.880641\n",
            "4      4    3463.524227\n",
            "..   ...            ...\n",
            "223  223    4330.343834\n",
            "224  224    4830.656992\n",
            "225  225    4617.971652\n",
            "226  226    4010.245394\n",
            "227  227    4027.344991\n",
            "\n",
            "[228 rows x 2 columns]\n"
          ]
        }
      ]
    },
    {
      "cell_type": "code",
      "source": [
        ""
      ],
      "metadata": {
        "id": "ATFnwex6y2lM"
      },
      "execution_count": null,
      "outputs": []
    }
  ]
}