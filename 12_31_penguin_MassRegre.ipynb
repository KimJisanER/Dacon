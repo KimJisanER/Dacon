{
  "nbformat": 4,
  "nbformat_minor": 0,
  "metadata": {
    "colab": {
      "name": "12_31_penguin_MassRegre.ipynb",
      "provenance": [],
      "mount_file_id": "1luViXeYRhNUeXhsxYR73G65fTOFz-CyI",
      "authorship_tag": "ABX9TyP7f+bqRrgQ4eD1eBTJFak7",
      "include_colab_link": true
    },
    "kernelspec": {
      "name": "python3",
      "display_name": "Python 3"
    },
    "language_info": {
      "name": "python"
    }
  },
  "cells": [
    {
      "cell_type": "markdown",
      "metadata": {
        "id": "view-in-github",
        "colab_type": "text"
      },
      "source": [
        "<a href=\"https://colab.research.google.com/github/KimJisanER/Dacon/blob/main/12_31_penguin_MassRegre.ipynb\" target=\"_parent\"><img src=\"https://colab.research.google.com/assets/colab-badge.svg\" alt=\"Open In Colab\"/></a>"
      ]
    },
    {
      "cell_type": "code",
      "execution_count": 60,
      "metadata": {
        "colab": {
          "base_uri": "https://localhost:8080/"
        },
        "id": "k81r1Dwz5Lpm",
        "outputId": "a34130f7-8e06-4f1a-e7ba-4f13b7fea9e7"
      },
      "outputs": [
        {
          "output_type": "stream",
          "name": "stdout",
          "text": [
            "                                                     0  \\\n",
            "id                                                   0   \n",
            "Species              Gentoo penguin (Pygoscelis papua)   \n",
            "Island                                          Biscoe   \n",
            "Clutch Completion                                  Yes   \n",
            "Culmen Length (mm)                                  50   \n",
            "Culmen Depth (mm)                                 15.3   \n",
            "Flipper Length (mm)                                220   \n",
            "Sex                                               MALE   \n",
            "Delta 15 N (o/oo)                              8.30515   \n",
            "Delta 13 C (o/oo)                             -25.1902   \n",
            "Body Mass (g)                                     5550   \n",
            "\n",
            "                                                             1  \\\n",
            "id                                                           1   \n",
            "Species              Chinstrap penguin (Pygoscelis antarctica)   \n",
            "Island                                                   Dream   \n",
            "Clutch Completion                                           No   \n",
            "Culmen Length (mm)                                        49.5   \n",
            "Culmen Depth (mm)                                           19   \n",
            "Flipper Length (mm)                                        200   \n",
            "Sex                                                       MALE   \n",
            "Delta 15 N (o/oo)                                      9.63074   \n",
            "Delta 13 C (o/oo)                                     -24.3468   \n",
            "Body Mass (g)                                             3800   \n",
            "\n",
            "                                                     2  \\\n",
            "id                                                   2   \n",
            "Species              Gentoo penguin (Pygoscelis papua)   \n",
            "Island                                          Biscoe   \n",
            "Clutch Completion                                  Yes   \n",
            "Culmen Length (mm)                                45.1   \n",
            "Culmen Depth (mm)                                 14.4   \n",
            "Flipper Length (mm)                                210   \n",
            "Sex                                             FEMALE   \n",
            "Delta 15 N (o/oo)                              8.51951   \n",
            "Delta 13 C (o/oo)                             -27.0185   \n",
            "Body Mass (g)                                     4400   \n",
            "\n",
            "                                                     3  \\\n",
            "id                                                   3   \n",
            "Species              Gentoo penguin (Pygoscelis papua)   \n",
            "Island                                          Biscoe   \n",
            "Clutch Completion                                  Yes   \n",
            "Culmen Length (mm)                                44.5   \n",
            "Culmen Depth (mm)                                 14.7   \n",
            "Flipper Length (mm)                                214   \n",
            "Sex                                             FEMALE   \n",
            "Delta 15 N (o/oo)                              8.20106   \n",
            "Delta 13 C (o/oo)                             -26.1652   \n",
            "Body Mass (g)                                     4850   \n",
            "\n",
            "                                                     4  \n",
            "id                                                   4  \n",
            "Species              Gentoo penguin (Pygoscelis papua)  \n",
            "Island                                          Biscoe  \n",
            "Clutch Completion                                   No  \n",
            "Culmen Length (mm)                                49.6  \n",
            "Culmen Depth (mm)                                   16  \n",
            "Flipper Length (mm)                                225  \n",
            "Sex                                               MALE  \n",
            "Delta 15 N (o/oo)                              8.38324  \n",
            "Delta 13 C (o/oo)                             -26.8427  \n",
            "Body Mass (g)                                     5700  \n",
            "                                                             0  \\\n",
            "id                                                           0   \n",
            "Species              Chinstrap penguin (Pygoscelis antarctica)   \n",
            "Island                                                   Dream   \n",
            "Clutch Completion                                          Yes   \n",
            "Culmen Length (mm)                                          52   \n",
            "Culmen Depth (mm)                                         20.7   \n",
            "Flipper Length (mm)                                        210   \n",
            "Sex                                                       MALE   \n",
            "Delta 15 N (o/oo)                                      9.43146   \n",
            "Delta 13 C (o/oo)                                     -24.6844   \n",
            "\n",
            "                                                     1  \\\n",
            "id                                                   1   \n",
            "Species              Gentoo penguin (Pygoscelis papua)   \n",
            "Island                                          Biscoe   \n",
            "Clutch Completion                                  Yes   \n",
            "Culmen Length (mm)                                55.9   \n",
            "Culmen Depth (mm)                                   17   \n",
            "Flipper Length (mm)                                228   \n",
            "Sex                                               MALE   \n",
            "Delta 15 N (o/oo)                               8.3118   \n",
            "Delta 13 C (o/oo)                             -26.3543   \n",
            "\n",
            "                                                       2  \\\n",
            "id                                                     2   \n",
            "Species              Adelie Penguin (Pygoscelis adeliae)   \n",
            "Island                                             Dream   \n",
            "Clutch Completion                                    Yes   \n",
            "Culmen Length (mm)                                  38.9   \n",
            "Culmen Depth (mm)                                   18.8   \n",
            "Flipper Length (mm)                                  190   \n",
            "Sex                                               FEMALE   \n",
            "Delta 15 N (o/oo)                                8.36936   \n",
            "Delta 13 C (o/oo)                                -26.112   \n",
            "\n",
            "                                                             3  \\\n",
            "id                                                           3   \n",
            "Species              Chinstrap penguin (Pygoscelis antarctica)   \n",
            "Island                                                   Dream   \n",
            "Clutch Completion                                          Yes   \n",
            "Culmen Length (mm)                                        45.2   \n",
            "Culmen Depth (mm)                                         16.6   \n",
            "Flipper Length (mm)                                        191   \n",
            "Sex                                                     FEMALE   \n",
            "Delta 15 N (o/oo)                                      9.62357   \n",
            "Delta 13 C (o/oo)                                     -24.7898   \n",
            "\n",
            "                                                       4  \n",
            "id                                                     4  \n",
            "Species              Adelie Penguin (Pygoscelis adeliae)  \n",
            "Island                                            Biscoe  \n",
            "Clutch Completion                                     No  \n",
            "Culmen Length (mm)                                  37.9  \n",
            "Culmen Depth (mm)                                   18.6  \n",
            "Flipper Length (mm)                                  172  \n",
            "Sex                                               FEMALE  \n",
            "Delta 15 N (o/oo)                                8.38404  \n",
            "Delta 13 C (o/oo)                               -25.1984  \n"
          ]
        }
      ],
      "source": [
        "import pandas as pd\n",
        "import numpy as np\n",
        "\n",
        "\n",
        "path='/content/drive/MyDrive/penguin/'\n",
        "\n",
        "train=pd.read_csv(path+'train.csv')\n",
        "test=pd.read_csv(path+'test.csv')\n",
        "\n",
        "print(train.head().T)\n",
        "print(test.head().T)"
      ]
    },
    {
      "cell_type": "code",
      "source": [
        "X_train=train.iloc[:,1:10]\n",
        "y_train=train.loc[:,'Body Mass (g)']\n",
        "test_id=test.iloc[:,0]\n",
        "X_test=test.iloc[:,1:]\n",
        "\n",
        "\n",
        "# print(X_train.T.head(11))\n",
        "# print(y_train.T.head(11))\n",
        "# print(test_id)"
      ],
      "metadata": {
        "id": "cPwwsYik6WuK"
      },
      "execution_count": 102,
      "outputs": []
    },
    {
      "cell_type": "code",
      "source": [
        "print(X_train.isnull().sum())\n",
        "print(X_test.isnull().sum())"
      ],
      "metadata": {
        "colab": {
          "base_uri": "https://localhost:8080/"
        },
        "id": "GNk5dUQk7R--",
        "outputId": "05b82c0a-900a-4ddb-fc3a-b0b02fd0ce3f"
      },
      "execution_count": 103,
      "outputs": [
        {
          "output_type": "stream",
          "name": "stdout",
          "text": [
            "Species                0\n",
            "Island                 0\n",
            "Clutch Completion      0\n",
            "Culmen Length (mm)     0\n",
            "Culmen Depth (mm)      0\n",
            "Flipper Length (mm)    0\n",
            "Sex                    3\n",
            "Delta 15 N (o/oo)      3\n",
            "Delta 13 C (o/oo)      3\n",
            "dtype: int64\n",
            "Species                0\n",
            "Island                 0\n",
            "Clutch Completion      0\n",
            "Culmen Length (mm)     0\n",
            "Culmen Depth (mm)      0\n",
            "Flipper Length (mm)    0\n",
            "Sex                    6\n",
            "Delta 15 N (o/oo)      9\n",
            "Delta 13 C (o/oo)      8\n",
            "dtype: int64\n"
          ]
        }
      ]
    },
    {
      "cell_type": "code",
      "source": [
        "\n",
        "pd.set_option('display.max_columns', 15)\n",
        "\n",
        "print(X_train.describe())\n",
        "print(X_test.describe())"
      ],
      "metadata": {
        "colab": {
          "base_uri": "https://localhost:8080/"
        },
        "id": "PzVzOH3g73ZS",
        "outputId": "70ac0722-77c1-48cd-9273-1bc3f669e0a5"
      },
      "execution_count": 104,
      "outputs": [
        {
          "output_type": "stream",
          "name": "stdout",
          "text": [
            "       Culmen Length (mm)  Culmen Depth (mm)  Flipper Length (mm)  \\\n",
            "count          114.000000         114.000000           114.000000   \n",
            "mean            44.613158          17.014912           203.052632   \n",
            "std              5.321829           1.941363            14.653425   \n",
            "min             33.500000          13.200000           174.000000   \n",
            "25%             40.325000          15.225000           190.000000   \n",
            "50%             45.200000          17.250000           199.000000   \n",
            "75%             49.075000          18.600000           216.000000   \n",
            "max             55.100000          21.100000           231.000000   \n",
            "\n",
            "       Delta 15 N (o/oo)  Delta 13 C (o/oo)  \n",
            "count         111.000000         111.000000  \n",
            "mean            8.737634         -25.723051  \n",
            "std             0.567698           0.859786  \n",
            "min             7.632200         -27.018540  \n",
            "25%             8.272585         -26.434025  \n",
            "50%             8.632590         -25.955410  \n",
            "75%             9.264635         -25.005945  \n",
            "max            10.025440         -24.102550  \n",
            "       Culmen Length (mm)  Culmen Depth (mm)  Flipper Length (mm)  \\\n",
            "count          228.000000         228.000000           228.000000   \n",
            "mean            43.576316          17.219298           199.846491   \n",
            "std              5.506157           1.992027            13.663938   \n",
            "min             32.100000          13.100000           172.000000   \n",
            "25%             38.900000          15.700000           189.750000   \n",
            "50%             43.250000          17.500000           196.000000   \n",
            "75%             48.100000          18.700000           212.000000   \n",
            "max             59.600000          21.500000           230.000000   \n",
            "\n",
            "       Delta 15 N (o/oo)  Delta 13 C (o/oo)  \n",
            "count         219.000000         220.000000  \n",
            "mean            8.731226         -25.667745  \n",
            "std             0.544827           0.759964  \n",
            "min             7.685280         -26.864850  \n",
            "25%             8.325385         -26.236812  \n",
            "50%             8.675380         -25.806100  \n",
            "75%             9.109330         -25.115125  \n",
            "max            10.023720         -23.787670  \n"
          ]
        }
      ]
    },
    {
      "cell_type": "code",
      "source": [
        "X_train['Delta 15 N (o/oo)']=X_train['Delta 15 N (o/oo)'].fillna(X_train['Delta 15 N (o/oo)'].mean())\n",
        "X_test['Delta 15 N (o/oo)']=X_test['Delta 15 N (o/oo)'].fillna(X_test['Delta 15 N (o/oo)'].mean())\n",
        "\n",
        "X_train['Delta 13 C (o/oo)']=X_train['Delta 13 C (o/oo)'].fillna(X_train['Delta 13 C (o/oo)'].mean())\n",
        "X_test['Delta 13 C (o/oo)']=X_test['Delta 13 C (o/oo)'].fillna(X_test['Delta 13 C (o/oo)'].mean())\n",
        "\n",
        "print(X_train.isnull().sum())\n",
        "print(X_test.isnull().sum())"
      ],
      "metadata": {
        "colab": {
          "base_uri": "https://localhost:8080/"
        },
        "id": "dcczN3YK9bsk",
        "outputId": "5a579fa7-0209-4da9-e46e-6ea0cc0547e4"
      },
      "execution_count": 105,
      "outputs": [
        {
          "output_type": "stream",
          "name": "stdout",
          "text": [
            "Species                0\n",
            "Island                 0\n",
            "Clutch Completion      0\n",
            "Culmen Length (mm)     0\n",
            "Culmen Depth (mm)      0\n",
            "Flipper Length (mm)    0\n",
            "Sex                    3\n",
            "Delta 15 N (o/oo)      0\n",
            "Delta 13 C (o/oo)      0\n",
            "dtype: int64\n",
            "Species                0\n",
            "Island                 0\n",
            "Clutch Completion      0\n",
            "Culmen Length (mm)     0\n",
            "Culmen Depth (mm)      0\n",
            "Flipper Length (mm)    0\n",
            "Sex                    6\n",
            "Delta 15 N (o/oo)      0\n",
            "Delta 13 C (o/oo)      0\n",
            "dtype: int64\n"
          ]
        }
      ]
    },
    {
      "cell_type": "code",
      "source": [
        "label=[]\n",
        "\n",
        "for i in X_train.columns:\n",
        "  if X_train.dtypes[i] == 'object':\n",
        "    label.append(i)\n",
        "\n",
        "print(label)"
      ],
      "metadata": {
        "colab": {
          "base_uri": "https://localhost:8080/"
        },
        "id": "FS4A4bnEBtUC",
        "outputId": "77a31c3e-f080-499e-b6a5-939b9f02db0f"
      },
      "execution_count": 106,
      "outputs": [
        {
          "output_type": "stream",
          "name": "stdout",
          "text": [
            "['Species', 'Island', 'Clutch Completion', 'Sex']\n"
          ]
        }
      ]
    },
    {
      "cell_type": "code",
      "source": [
        "from sklearn.preprocessing import LabelEncoder\n",
        "X_train.loc[:,label]=X_train.loc[:,label].apply(LabelEncoder().fit_transform)\n",
        "X_test.loc[:,label]=X_test.loc[:,label].apply(LabelEncoder().fit_transform)"
      ],
      "metadata": {
        "id": "f8UIwaBZAOhY"
      },
      "execution_count": 107,
      "outputs": []
    },
    {
      "cell_type": "code",
      "source": [
        "# from sklearn.model_selection import train_test_split\n",
        "# nX_train,nX_val,ny_train,ny_val=train_test_split(X_train, y_train, test_size=0.1, random_state=42)"
      ],
      "metadata": {
        "id": "5uPJjT3kne3A"
      },
      "execution_count": 108,
      "outputs": []
    },
    {
      "cell_type": "code",
      "source": [
        "from sklearn.preprocessing import StandardScaler\n",
        "scaler=StandardScaler()\n",
        "scaler.fit(X_train)\n",
        "X_train=scaler.transform(X_train)\n",
        "X_test=scaler.transform(X_test)"
      ],
      "metadata": {
        "id": "D7ZX9SZpp1Jd"
      },
      "execution_count": 109,
      "outputs": []
    },
    {
      "cell_type": "code",
      "source": [
        "from sklearn.ensemble import RandomForestRegressor\n",
        "model=RandomForestRegressor(max_depth=5, n_estimators=200, min_samples_leaf=8, min_samples_split=8)\n",
        "model.fit(X_train,y_train)"
      ],
      "metadata": {
        "colab": {
          "base_uri": "https://localhost:8080/"
        },
        "id": "F-uG52i8oI_F",
        "outputId": "936e8c0a-0165-4956-b5e2-b48ef25f7bbf"
      },
      "execution_count": 110,
      "outputs": [
        {
          "output_type": "execute_result",
          "data": {
            "text/plain": [
              "RandomForestRegressor(max_depth=5, min_samples_leaf=8, min_samples_split=8,\n",
              "                      n_estimators=200)"
            ]
          },
          "metadata": {},
          "execution_count": 110
        }
      ]
    },
    {
      "cell_type": "code",
      "source": [
        "from sklearn.linear_model import Lasso\n",
        "model_la=Lasso(alpha=0.2)\n",
        "model_la.fit(X_train,y_train)"
      ],
      "metadata": {
        "colab": {
          "base_uri": "https://localhost:8080/"
        },
        "id": "OnC1h0uMYuWX",
        "outputId": "99b18faa-cf63-4f3d-dbb2-6affb1ed4b49"
      },
      "execution_count": 111,
      "outputs": [
        {
          "output_type": "execute_result",
          "data": {
            "text/plain": [
              "Lasso(alpha=0.2)"
            ]
          },
          "metadata": {},
          "execution_count": 111
        }
      ]
    },
    {
      "cell_type": "code",
      "source": [
        "from sklearn.linear_model import LinearRegression\n",
        "model_lr=LinearRegression()\n",
        "model_lr.fit(X_train,y_train)"
      ],
      "metadata": {
        "colab": {
          "base_uri": "https://localhost:8080/"
        },
        "id": "MUvE9kNroP0Y",
        "outputId": "e48c9258-6bb2-42a2-adea-cb96f1ff289c"
      },
      "execution_count": 112,
      "outputs": [
        {
          "output_type": "execute_result",
          "data": {
            "text/plain": [
              "LinearRegression()"
            ]
          },
          "metadata": {},
          "execution_count": 112
        }
      ]
    },
    {
      "cell_type": "code",
      "source": [
        "import xgboost as xgb\n",
        "from xgboost import XGBRegressor\n",
        "model_xgb=XGBRegressor(max_depth=2)\n",
        "model_xgb.fit(X_train,y_train)"
      ],
      "metadata": {
        "colab": {
          "base_uri": "https://localhost:8080/"
        },
        "id": "ZJe3E3fVpqk6",
        "outputId": "41cc9d38-bf23-4cf2-cf16-856d3d0de4fc"
      },
      "execution_count": 113,
      "outputs": [
        {
          "output_type": "stream",
          "name": "stdout",
          "text": [
            "[04:22:19] WARNING: /workspace/src/objective/regression_obj.cu:152: reg:linear is now deprecated in favor of reg:squarederror.\n"
          ]
        },
        {
          "output_type": "execute_result",
          "data": {
            "text/plain": [
              "XGBRegressor(max_depth=2)"
            ]
          },
          "metadata": {},
          "execution_count": 113
        }
      ]
    },
    {
      "cell_type": "code",
      "source": [
        "pred=model.predict(X_test)\n",
        "pred2=model_la.predict(X_test)\n",
        "pred3=model_lr.predict(X_test)\n",
        "pred4=model_xgb.predict(X_test)\n"
      ],
      "metadata": {
        "id": "W4CDXEXXpYnv"
      },
      "execution_count": 114,
      "outputs": []
    },
    {
      "cell_type": "code",
      "source": [
        "pred_fin=0.25*pred+0.25*pred2+0.25*pred3+0.25*pred4\n",
        "pred_fin=pd.DataFrame(pred_fin)\n",
        "\n",
        "sub=pd.concat([test_id,pred_fin], axis=1)\n",
        "sub.columns=['id','Body Mass (g)']\n",
        "print(sub)\n",
        "\n",
        "sub.to_csv('penguin_massregress.csv', index=False)\n",
        "# print(pred_fin)\n"
      ],
      "metadata": {
        "colab": {
          "base_uri": "https://localhost:8080/"
        },
        "id": "wfp2RQggyl0t",
        "outputId": "ee1290b0-350e-4de7-d8f3-d0319f69706d"
      },
      "execution_count": 115,
      "outputs": [
        {
          "output_type": "stream",
          "name": "stdout",
          "text": [
            "      id  Body Mass (g)\n",
            "0      0    4414.827413\n",
            "1      1    5563.907263\n",
            "2      2    3641.673488\n",
            "3      3    3425.015804\n",
            "4      4    3472.621834\n",
            "..   ...            ...\n",
            "223  223    4191.745038\n",
            "224  224    4769.077070\n",
            "225  225    4598.440296\n",
            "226  226    3968.400744\n",
            "227  227    4070.150032\n",
            "\n",
            "[228 rows x 2 columns]\n"
          ]
        }
      ]
    }
  ]
}