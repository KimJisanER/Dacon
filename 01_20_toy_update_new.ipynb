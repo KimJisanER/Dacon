{
  "nbformat": 4,
  "nbformat_minor": 0,
  "metadata": {
    "colab": {
      "name": "01_20_toy_update_new",
      "provenance": [],
      "collapsed_sections": [],
      "include_colab_link": true
    },
    "kernelspec": {
      "name": "python3",
      "display_name": "Python 3"
    },
    "language_info": {
      "name": "python"
    }
  },
  "cells": [
    {
      "cell_type": "markdown",
      "metadata": {
        "id": "view-in-github",
        "colab_type": "text"
      },
      "source": [
        "<a href=\"https://colab.research.google.com/github/KimJisanER/Dacon/blob/main/01_20_toy_update_new.ipynb\" target=\"_parent\"><img src=\"https://colab.research.google.com/assets/colab-badge.svg\" alt=\"Open In Colab\"/></a>"
      ]
    },
    {
      "cell_type": "markdown",
      "source": [
        "**장난감 대여,보유현황 업데이트 코드**"
      ],
      "metadata": {
        "id": "bD3iwivJEfcl"
      }
    },
    {
      "cell_type": "code",
      "source": [
        "from google.colab import drive\n",
        "drive.mount('/content/drive')"
      ],
      "metadata": {
        "colab": {
          "base_uri": "https://localhost:8080/"
        },
        "id": "XhyFQjoA3xDr",
        "outputId": "c330edbb-6ba9-4dbc-dd63-f9122db371ff"
      },
      "execution_count": 2,
      "outputs": [
        {
          "output_type": "stream",
          "name": "stdout",
          "text": [
            "Mounted at /content/drive\n"
          ]
        }
      ]
    },
    {
      "cell_type": "markdown",
      "source": [
        "조이렌트 엑셀파일을 csv파일로 변환 후 사용"
      ],
      "metadata": {
        "id": "UtaK-WqJEikO"
      }
    },
    {
      "cell_type": "markdown",
      "source": [
        "\n",
        "\n",
        "1.   조이렌트 대여현황 엑셀파일을 '다른 이름으로 저장'하여 csv 파일로 바꿔준다.\n",
        " ( 이전 자료 1개, 오늘 자료 1개 총 2개) \n",
        "2.   구글 코랩에서 좌측 폴더 모양 아이콘에 들어가 3번째 폴더모양 아이콘 '드라이브 마운트'를 해준다.\n",
        "3. drive 폴더 안 mydrive에 파일을 업로드할 폴더를 만들어준다. 폴더명 : toy ( 이미 있다면 안해도됨)\n",
        "4. toy폴더에 csv로 변환한 엑셀파일을 올려준다. (총 2개)\n",
        "5. \n",
        "prior=pd.read_csv('/content/drive/MyDrive/toy/이곳에 이전자료 파일이름.csv',sep=',', encoding='cp949') 적혀져 있는 코드에서 파일 이름만 바꿔준다. (주의: 따옴표 건들지 않기)\n",
        "\n",
        "6. later=pd.read_csv('/content/drive/MyDrive/toy/이곳에 최근자료 파일이름.csv',sep=',', encoding='cp949') 여기서도 파일 이름만 바꿔준다.\n",
        "\n",
        "7. 여기까지 했으면 실행버튼 누르고 출력결과 확인! 끝\n"
      ],
      "metadata": {
        "id": "f6LPIvtyE0zr"
      }
    },
    {
      "cell_type": "code",
      "execution_count": 8,
      "metadata": {
        "colab": {
          "base_uri": "https://localhost:8080/"
        },
        "id": "4O_IGPyHAx2V",
        "outputId": "fbe58c36-62ec-40a4-d15c-36b45cf145bf"
      },
      "outputs": [
        {
          "output_type": "stream",
          "name": "stdout",
          "text": [
            "2560\n",
            "2560\n",
            "1450\n",
            "1450\n",
            "\n",
            "대여중으로 바꿀 장난감:\n",
            " ['로디맥스 호핑말', '리틀퓨처북-폴리펜', '어드벤처 파크'] \n",
            "\n",
            "보유중(대여가능)으로 바꿀 장난감:\n",
            " ['만능놀이 야리따이호다이', '코니스 에듀테이블'] \n",
            "\n"
          ]
        }
      ],
      "source": [
        "import pandas as pd\n",
        "import numpy as np\n",
        "\n",
        "\n",
        "#이전 데이터(csv)불러오기\n",
        "prior=pd.read_csv('/content/drive/MyDrive/toy/Exp220120_095754.csv',sep=',', encoding='cp949')\n",
        "#최근 데이터(csv)불러오기\n",
        "later=pd.read_csv('/content/drive/MyDrive/toy/Exp220120_172026.csv',sep=',', encoding='cp949')\n",
        "\n",
        "print(len(prior))\n",
        "print(len(later))\n",
        "\n",
        "## 폐기, 기증, 판매 등 메모 항목으로 현재 없는 장난감 걸러내는 함수\n",
        "def out(x):\n",
        "    for i in range(len(x['메모'])):\n",
        "      if x['메모'].find('폐기') != -1 :\n",
        "        x['out'] = 1\n",
        "      elif x['메모'].find('폐') != -1 :\n",
        "        x['out'] = 1\n",
        "      elif x['메모'].find('기증') != -1 :\n",
        "        x['out'] = 1\n",
        "      elif x['메모'].find('송천') != -1 :\n",
        "        x['out'] = 1\n",
        "      elif x['메모'].find('인후') != -1 :\n",
        "        x['out'] = 1\n",
        "      elif x['메모'].find('판매') != -1 :\n",
        "        x['out'] = 1\n",
        "      else:\n",
        "        x['out'] = 0\n",
        "    return x\n",
        "\n",
        "## 함수 적용\n",
        "prior = prior.apply(lambda x: out(x), axis=1)\n",
        "later = later.apply(lambda x: out(x), axis=1)\n",
        "prior=prior[prior['out']==0]\n",
        "later=later[later['out']==0]\n",
        "print(len(prior))\n",
        "print(len(later))\n",
        "\n",
        "#보유==0인 장난감 리스트 정리해주는 함수\n",
        "def toylist(data):\n",
        "  data=data.iloc[:,3:6]\n",
        "  data['대여상태']=data['대여상태'].replace('보유중',1)\n",
        "  data['대여상태']=data['대여상태'].replace('대여중',0)\n",
        "  data_sum=data.groupby(['상품명']).sum()\n",
        "  data_sum=data_sum.reset_index()\n",
        "  c=[]\n",
        "  for i in range(len(data_sum)):\n",
        "    if data_sum['대여상태'][i]==0:\n",
        "        c.append(data_sum['상품명'][i])\n",
        "  return(c)\n",
        "\n",
        "#리스트 비교\n",
        "out_update=list(set(toylist(later))-set(toylist(prior)))\n",
        "in_update=list(set(toylist(prior))-set(toylist(later)))\n",
        "\n",
        "#출력\n",
        "print()\n",
        "print('대여중으로 바꿀 장난감:\\n',out_update,'\\n')\n",
        "print('보유중(대여가능)으로 바꿀 장난감:\\n',in_update,'\\n')\n",
        "\n",
        "#데이터프레임 정리 및 csv저장\n",
        "# out_update=pd.DataFrame(out_update)\n",
        "# in_update=pd.DataFrame(in_update)\n",
        "# total_update=pd.concat([out_update,in_update], axis=1)\n",
        "# total_update.columns=['대여중으로 변경','보유중으로 변경']\n",
        "# print(total_update)\n",
        "# total_update.to_csv('toy_out.csv',index=False)"
      ]
    }
  ]
}